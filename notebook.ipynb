{
  "cells": [
    {
      "cell_type": "markdown",
      "metadata": {
        "colab_type": "text",
        "id": "view-in-github"
      },
      "source": [
        "<a href=\"https://colab.research.google.com/github/omendez930/Bank-Fraud-Detection/blob/main/notebook.ipynb\" target=\"_parent\"><img src=\"https://colab.research.google.com/assets/colab-badge.svg\" alt=\"Open In Colab\"/></a>"
      ]
    },
    {
      "cell_type": "markdown",
      "metadata": {
        "id": "i7kV2J3wnUFk"
      },
      "source": [
        "# **Bank Fraud Detection**\n",
        "\n",
        "# Business Understanding\n",
        "\n",
        "Objective:\n",
        "\n",
        "The primary goal of analyzing this dataset is to detect fraudulent bank transactions. Fraudulent activities can cause significant financial losses for banks and customers. By leveraging machine learning and data analysis, we aim to build a model that can distinguish between legitimate and fraudulent transactions in real time.\n",
        "\n",
        "\n",
        "\n",
        "*   A high-performing fraud detection model that minimizes false positives (legitimate transactions incorrectly flagged as fraud) and false negatives (fraudulent transactions that go undetected).\n",
        "*   The model should generalize well to unseen data to be deployable in a real-world setting.\n",
        "*   Business value: reducing financial losses due to fraud and enhancing customer trust in the bank’s security systems.\n",
        "\n",
        "# Data Understanding\n",
        "\n",
        "Key Features to Examine:\n",
        "\n",
        "The dataset contains 200k rows of transactional data labeled as fraudulent or non-fraudulent. Each row represents a transaction with various features describing its characteristics.\n",
        "\n",
        "\n",
        "\n",
        "1.   Gender: The gender of the consumer (e.G., Male, Female, Other). Four.\n",
        "2.   Age: The age of the consumer at the time of the transaction.\n",
        "3.   State: The nation in which the patron resides.\n",
        "4.   Bank_Branch: The specific financial institution branch wherein the consumer holds their account.\n",
        "5.   Account_Type: The kind of account held with the aid of the customer (e.G., Savings, Checking). Nine.\n",
        "6.   Transaction_ID: A particular identifier for each transaction.\n",
        "7.   Transaction_Date: The date on which the transaction passed off. Eleven.\n",
        "8.   Transaction_Time: The specific time the transaction became initiated.\n",
        "9.   Transaction_Amount: The financial value of the transaction.\n",
        "10.  Merchant_ID: A particular identifier for the merchant worried within the transaction.\n",
        "11.  Transaction_Type: The nature of the transaction (e.G., Withdrawal, Deposit, Transfer).\n",
        "12.   Merchant_Category: The class of the merchant (e.G., Retail, Online, Travel).\n",
        "13.   Account_Balance: The balance of the customer's account after the transaction.\n",
        "14.   Transaction_Device: The tool utilized by the consumer to perform the transaction (e.G., Mobile, Desktop).\n",
        "15.   Transaction_Location: The geographical vicinity (e.G., latitude, longitude) of the transaction.\n",
        "16.   Device_Type: The kind of device used for the transaction (e.G., Smartphone, Laptop).\n",
        "17.   Is_Fraud: A binary indicator (1 or zero) indicating whether or not the transaction is fraudulent or now not.\n",
        "18.   Transaction_Currency: The currency used for the transaction (e.G., USD, EUR).\n",
        "19.   Transaction_Description: A brief description of the transaction (e.G., buy, switch).\n",
        "\n",
        "\n",
        "\n",
        "\n",
        "\n"
      ]
    },
    {
      "cell_type": "code",
      "execution_count": null,
      "metadata": {
        "id": "7MI3K5GjkYId"
      },
      "outputs": [
        {
          "name": "stderr",
          "output_type": "stream",
          "text": [
            "'kaggle' is not recognized as an internal or external command,\n",
            "operable program or batch file.\n"
          ]
        }
      ],
      "source": [
        "# Uncomment if you open this file in google colab\n",
        "# !kaggle datasets download -d orangelmendez/bank-fraud"
      ]
    },
    {
      "cell_type": "code",
      "execution_count": null,
      "metadata": {
        "id": "3ndpr6RiyWxO"
      },
      "outputs": [],
      "source": [
        "# Uncomment to unzip the file in google colab\n",
        "# !unzip bank-fraud.zip -d data"
      ]
    },
    {
      "cell_type": "code",
      "execution_count": 3,
      "metadata": {},
      "outputs": [
        {
          "name": "stdout",
          "output_type": "stream",
          "text": [
            "Collecting tensorflow\n",
            "  Downloading tensorflow-2.18.0-cp312-cp312-win_amd64.whl.metadata (3.3 kB)\n",
            "Collecting tensorflow-intel==2.18.0 (from tensorflow)\n",
            "  Downloading tensorflow_intel-2.18.0-cp312-cp312-win_amd64.whl.metadata (4.9 kB)\n",
            "Collecting absl-py>=1.0.0 (from tensorflow-intel==2.18.0->tensorflow)\n",
            "  Using cached absl_py-2.1.0-py3-none-any.whl.metadata (2.3 kB)\n",
            "Collecting astunparse>=1.6.0 (from tensorflow-intel==2.18.0->tensorflow)\n",
            "  Using cached astunparse-1.6.3-py2.py3-none-any.whl.metadata (4.4 kB)\n",
            "Collecting flatbuffers>=24.3.25 (from tensorflow-intel==2.18.0->tensorflow)\n",
            "  Downloading flatbuffers-25.2.10-py2.py3-none-any.whl.metadata (875 bytes)\n",
            "Collecting gast!=0.5.0,!=0.5.1,!=0.5.2,>=0.2.1 (from tensorflow-intel==2.18.0->tensorflow)\n",
            "  Downloading gast-0.6.0-py3-none-any.whl.metadata (1.3 kB)\n",
            "Collecting google-pasta>=0.1.1 (from tensorflow-intel==2.18.0->tensorflow)\n",
            "  Using cached google_pasta-0.2.0-py3-none-any.whl.metadata (814 bytes)\n",
            "Collecting libclang>=13.0.0 (from tensorflow-intel==2.18.0->tensorflow)\n",
            "  Using cached libclang-18.1.1-py2.py3-none-win_amd64.whl.metadata (5.3 kB)\n",
            "Collecting opt-einsum>=2.3.2 (from tensorflow-intel==2.18.0->tensorflow)\n",
            "  Using cached opt_einsum-3.4.0-py3-none-any.whl.metadata (6.3 kB)\n",
            "Requirement already satisfied: packaging in c:\\users\\omend\\appdata\\roaming\\python\\python312\\site-packages (from tensorflow-intel==2.18.0->tensorflow) (24.1)\n",
            "Requirement already satisfied: protobuf!=4.21.0,!=4.21.1,!=4.21.2,!=4.21.3,!=4.21.4,!=4.21.5,<6.0.0dev,>=3.20.3 in c:\\users\\omend\\anaconda3\\lib\\site-packages (from tensorflow-intel==2.18.0->tensorflow) (3.20.3)\n",
            "Requirement already satisfied: requests<3,>=2.21.0 in c:\\users\\omend\\anaconda3\\lib\\site-packages (from tensorflow-intel==2.18.0->tensorflow) (2.32.2)\n",
            "Requirement already satisfied: setuptools in c:\\users\\omend\\anaconda3\\lib\\site-packages (from tensorflow-intel==2.18.0->tensorflow) (69.5.1)\n",
            "Requirement already satisfied: six>=1.12.0 in c:\\users\\omend\\appdata\\roaming\\python\\python312\\site-packages (from tensorflow-intel==2.18.0->tensorflow) (1.16.0)\n",
            "Collecting termcolor>=1.1.0 (from tensorflow-intel==2.18.0->tensorflow)\n",
            "  Downloading termcolor-2.5.0-py3-none-any.whl.metadata (6.1 kB)\n",
            "Requirement already satisfied: typing-extensions>=3.6.6 in c:\\users\\omend\\anaconda3\\lib\\site-packages (from tensorflow-intel==2.18.0->tensorflow) (4.11.0)\n",
            "Requirement already satisfied: wrapt>=1.11.0 in c:\\users\\omend\\anaconda3\\lib\\site-packages (from tensorflow-intel==2.18.0->tensorflow) (1.14.1)\n",
            "Collecting grpcio<2.0,>=1.24.3 (from tensorflow-intel==2.18.0->tensorflow)\n",
            "  Downloading grpcio-1.70.0-cp312-cp312-win_amd64.whl.metadata (4.0 kB)\n",
            "Collecting tensorboard<2.19,>=2.18 (from tensorflow-intel==2.18.0->tensorflow)\n",
            "  Downloading tensorboard-2.18.0-py3-none-any.whl.metadata (1.6 kB)\n",
            "Collecting keras>=3.5.0 (from tensorflow-intel==2.18.0->tensorflow)\n",
            "  Downloading keras-3.8.0-py3-none-any.whl.metadata (5.8 kB)\n",
            "Requirement already satisfied: numpy<2.1.0,>=1.26.0 in c:\\users\\omend\\anaconda3\\lib\\site-packages (from tensorflow-intel==2.18.0->tensorflow) (1.26.4)\n",
            "Requirement already satisfied: h5py>=3.11.0 in c:\\users\\omend\\anaconda3\\lib\\site-packages (from tensorflow-intel==2.18.0->tensorflow) (3.11.0)\n",
            "Collecting ml-dtypes<0.5.0,>=0.4.0 (from tensorflow-intel==2.18.0->tensorflow)\n",
            "  Downloading ml_dtypes-0.4.1-cp312-cp312-win_amd64.whl.metadata (20 kB)\n",
            "Requirement already satisfied: wheel<1.0,>=0.23.0 in c:\\users\\omend\\anaconda3\\lib\\site-packages (from astunparse>=1.6.0->tensorflow-intel==2.18.0->tensorflow) (0.43.0)\n",
            "Requirement already satisfied: rich in c:\\users\\omend\\anaconda3\\lib\\site-packages (from keras>=3.5.0->tensorflow-intel==2.18.0->tensorflow) (13.3.5)\n",
            "Collecting namex (from keras>=3.5.0->tensorflow-intel==2.18.0->tensorflow)\n",
            "  Downloading namex-0.0.8-py3-none-any.whl.metadata (246 bytes)\n",
            "Collecting optree (from keras>=3.5.0->tensorflow-intel==2.18.0->tensorflow)\n",
            "  Downloading optree-0.14.0-cp312-cp312-win_amd64.whl.metadata (48 kB)\n",
            "     ---------------------------------------- 0.0/48.6 kB ? eta -:--:--\n",
            "     ---------------------------------------- 48.6/48.6 kB 2.4 MB/s eta 0:00:00\n",
            "Requirement already satisfied: charset-normalizer<4,>=2 in c:\\users\\omend\\anaconda3\\lib\\site-packages (from requests<3,>=2.21.0->tensorflow-intel==2.18.0->tensorflow) (2.0.4)\n",
            "Requirement already satisfied: idna<4,>=2.5 in c:\\users\\omend\\anaconda3\\lib\\site-packages (from requests<3,>=2.21.0->tensorflow-intel==2.18.0->tensorflow) (3.7)\n",
            "Requirement already satisfied: urllib3<3,>=1.21.1 in c:\\users\\omend\\anaconda3\\lib\\site-packages (from requests<3,>=2.21.0->tensorflow-intel==2.18.0->tensorflow) (2.2.2)\n",
            "Requirement already satisfied: certifi>=2017.4.17 in c:\\users\\omend\\anaconda3\\lib\\site-packages (from requests<3,>=2.21.0->tensorflow-intel==2.18.0->tensorflow) (2024.12.14)\n",
            "Requirement already satisfied: markdown>=2.6.8 in c:\\users\\omend\\anaconda3\\lib\\site-packages (from tensorboard<2.19,>=2.18->tensorflow-intel==2.18.0->tensorflow) (3.4.1)\n",
            "Collecting tensorboard-data-server<0.8.0,>=0.7.0 (from tensorboard<2.19,>=2.18->tensorflow-intel==2.18.0->tensorflow)\n",
            "  Using cached tensorboard_data_server-0.7.2-py3-none-any.whl.metadata (1.1 kB)\n",
            "Requirement already satisfied: werkzeug>=1.0.1 in c:\\users\\omend\\anaconda3\\lib\\site-packages (from tensorboard<2.19,>=2.18->tensorflow-intel==2.18.0->tensorflow) (3.0.3)\n",
            "Requirement already satisfied: MarkupSafe>=2.1.1 in c:\\users\\omend\\anaconda3\\lib\\site-packages (from werkzeug>=1.0.1->tensorboard<2.19,>=2.18->tensorflow-intel==2.18.0->tensorflow) (2.1.3)\n",
            "Requirement already satisfied: markdown-it-py<3.0.0,>=2.2.0 in c:\\users\\omend\\anaconda3\\lib\\site-packages (from rich->keras>=3.5.0->tensorflow-intel==2.18.0->tensorflow) (2.2.0)\n",
            "Requirement already satisfied: pygments<3.0.0,>=2.13.0 in c:\\users\\omend\\appdata\\roaming\\python\\python312\\site-packages (from rich->keras>=3.5.0->tensorflow-intel==2.18.0->tensorflow) (2.18.0)\n",
            "Requirement already satisfied: mdurl~=0.1 in c:\\users\\omend\\anaconda3\\lib\\site-packages (from markdown-it-py<3.0.0,>=2.2.0->rich->keras>=3.5.0->tensorflow-intel==2.18.0->tensorflow) (0.1.0)\n",
            "Downloading tensorflow-2.18.0-cp312-cp312-win_amd64.whl (7.5 kB)\n",
            "Downloading tensorflow_intel-2.18.0-cp312-cp312-win_amd64.whl (390.3 MB)\n",
            "   ---------------------------------------- 0.0/390.3 MB ? eta -:--:--\n",
            "   ---------------------------------------- 1.8/390.3 MB 38.5 MB/s eta 0:00:11\n",
            "   ---------------------------------------- 4.2/390.3 MB 44.7 MB/s eta 0:00:09\n",
            "    --------------------------------------- 6.3/390.3 MB 50.2 MB/s eta 0:00:08\n",
            "    --------------------------------------- 8.4/390.3 MB 44.6 MB/s eta 0:00:09\n",
            "   - -------------------------------------- 11.0/390.3 MB 46.7 MB/s eta 0:00:09\n",
            "   - -------------------------------------- 13.3/390.3 MB 50.4 MB/s eta 0:00:08\n",
            "   - -------------------------------------- 15.1/390.3 MB 46.7 MB/s eta 0:00:09\n",
            "   - -------------------------------------- 16.9/390.3 MB 46.7 MB/s eta 0:00:08\n",
            "   - -------------------------------------- 18.7/390.3 MB 43.7 MB/s eta 0:00:09\n",
            "   -- ------------------------------------- 20.5/390.3 MB 40.9 MB/s eta 0:00:10\n",
            "   -- ------------------------------------- 22.3/390.3 MB 38.6 MB/s eta 0:00:10\n",
            "   -- ------------------------------------- 23.0/390.3 MB 34.4 MB/s eta 0:00:11\n",
            "   -- ------------------------------------- 25.4/390.3 MB 36.4 MB/s eta 0:00:11\n",
            "   -- ------------------------------------- 27.6/390.3 MB 36.4 MB/s eta 0:00:10\n",
            "   --- ------------------------------------ 29.3/390.3 MB 38.5 MB/s eta 0:00:10\n",
            "   --- ------------------------------------ 31.0/390.3 MB 38.5 MB/s eta 0:00:10\n",
            "   --- ------------------------------------ 32.8/390.3 MB 40.9 MB/s eta 0:00:09\n",
            "   --- ------------------------------------ 34.5/390.3 MB 40.9 MB/s eta 0:00:09\n",
            "   --- ------------------------------------ 36.2/390.3 MB 38.5 MB/s eta 0:00:10\n",
            "   --- ------------------------------------ 38.0/390.3 MB 38.6 MB/s eta 0:00:10\n",
            "   ---- ----------------------------------- 39.7/390.3 MB 38.6 MB/s eta 0:00:10\n",
            "   ---- ----------------------------------- 40.4/390.3 MB 34.4 MB/s eta 0:00:11\n",
            "   ---- ----------------------------------- 40.7/390.3 MB 31.2 MB/s eta 0:00:12\n",
            "   ---- ----------------------------------- 41.0/390.3 MB 27.3 MB/s eta 0:00:13\n",
            "   ---- ----------------------------------- 43.3/390.3 MB 28.4 MB/s eta 0:00:13\n",
            "   ---- ----------------------------------- 46.1/390.3 MB 31.2 MB/s eta 0:00:12\n",
            "   ---- ----------------------------------- 48.0/390.3 MB 31.1 MB/s eta 0:00:12\n",
            "   ----- ---------------------------------- 49.3/390.3 MB 31.2 MB/s eta 0:00:11\n",
            "   ----- ---------------------------------- 50.4/390.3 MB 29.8 MB/s eta 0:00:12\n",
            "   ----- ---------------------------------- 53.1/390.3 MB 40.9 MB/s eta 0:00:09\n",
            "   ----- ---------------------------------- 54.4/390.3 MB 38.5 MB/s eta 0:00:09\n",
            "   ----- ---------------------------------- 56.7/390.3 MB 36.4 MB/s eta 0:00:10\n",
            "   ------ --------------------------------- 58.7/390.3 MB 40.9 MB/s eta 0:00:09\n",
            "   ------ --------------------------------- 58.7/390.3 MB 40.9 MB/s eta 0:00:09\n",
            "   ------ --------------------------------- 58.7/390.3 MB 40.9 MB/s eta 0:00:09\n",
            "   ------ --------------------------------- 58.7/390.3 MB 40.9 MB/s eta 0:00:09\n",
            "   ------ --------------------------------- 58.8/390.3 MB 24.2 MB/s eta 0:00:14\n",
            "   ------ --------------------------------- 58.9/390.3 MB 23.4 MB/s eta 0:00:15\n",
            "   ------ --------------------------------- 59.1/390.3 MB 19.9 MB/s eta 0:00:17\n",
            "   ------ --------------------------------- 59.1/390.3 MB 18.7 MB/s eta 0:00:18\n",
            "   ------ --------------------------------- 59.3/390.3 MB 16.8 MB/s eta 0:00:20\n",
            "   ------ --------------------------------- 59.6/390.3 MB 16.4 MB/s eta 0:00:21\n",
            "   ------ --------------------------------- 60.4/390.3 MB 15.6 MB/s eta 0:00:22\n",
            "   ------ --------------------------------- 62.3/390.3 MB 15.6 MB/s eta 0:00:22\n",
            "   ------ --------------------------------- 64.9/390.3 MB 16.0 MB/s eta 0:00:21\n",
            "   ------ --------------------------------- 67.5/390.3 MB 16.0 MB/s eta 0:00:21\n",
            "   ------ --------------------------------- 68.2/390.3 MB 16.0 MB/s eta 0:00:21\n",
            "   ------ --------------------------------- 68.2/390.3 MB 16.0 MB/s eta 0:00:21\n",
            "   ------ --------------------------------- 68.2/390.3 MB 16.0 MB/s eta 0:00:21\n",
            "   ------- -------------------------------- 68.6/390.3 MB 12.6 MB/s eta 0:00:26\n",
            "   ------- -------------------------------- 69.0/390.3 MB 15.6 MB/s eta 0:00:21\n",
            "   ------- -------------------------------- 70.8/390.3 MB 25.2 MB/s eta 0:00:13\n",
            "   ------- -------------------------------- 72.6/390.3 MB 24.2 MB/s eta 0:00:14\n",
            "   ------- -------------------------------- 73.3/390.3 MB 22.5 MB/s eta 0:00:15\n",
            "   ------- -------------------------------- 75.5/390.3 MB 22.6 MB/s eta 0:00:14\n",
            "   -------- ------------------------------- 78.1/390.3 MB 21.9 MB/s eta 0:00:15\n",
            "   -------- ------------------------------- 80.7/390.3 MB 43.7 MB/s eta 0:00:08\n",
            "   -------- ------------------------------- 83.3/390.3 MB 54.7 MB/s eta 0:00:06\n",
            "   -------- ------------------------------- 85.7/390.3 MB 54.4 MB/s eta 0:00:06\n",
            "   -------- ------------------------------- 87.5/390.3 MB 50.4 MB/s eta 0:00:07\n",
            "   --------- ------------------------------ 89.3/390.3 MB 46.7 MB/s eta 0:00:07\n",
            "   --------- ------------------------------ 91.1/390.3 MB 43.5 MB/s eta 0:00:07\n",
            "   --------- ------------------------------ 92.9/390.3 MB 40.9 MB/s eta 0:00:08\n",
            "   --------- ------------------------------ 94.7/390.3 MB 38.6 MB/s eta 0:00:08\n",
            "   --------- ------------------------------ 96.5/390.3 MB 38.6 MB/s eta 0:00:08\n",
            "   ---------- ----------------------------- 98.2/390.3 MB 38.5 MB/s eta 0:00:08\n",
            "   --------- ----------------------------- 100.0/390.3 MB 38.5 MB/s eta 0:00:08\n",
            "   ---------- ---------------------------- 101.7/390.3 MB 38.6 MB/s eta 0:00:08\n",
            "   ---------- ---------------------------- 103.5/390.3 MB 38.5 MB/s eta 0:00:08\n",
            "   ---------- ---------------------------- 105.2/390.3 MB 38.5 MB/s eta 0:00:08\n",
            "   ---------- ---------------------------- 107.0/390.3 MB 38.5 MB/s eta 0:00:08\n",
            "   ---------- ---------------------------- 108.8/390.3 MB 38.5 MB/s eta 0:00:08\n",
            "   ----------- --------------------------- 110.5/390.3 MB 38.5 MB/s eta 0:00:08\n",
            "   ----------- --------------------------- 112.3/390.3 MB 38.6 MB/s eta 0:00:08\n",
            "   ----------- --------------------------- 114.1/390.3 MB 38.6 MB/s eta 0:00:08\n",
            "   ----------- --------------------------- 115.9/390.3 MB 38.6 MB/s eta 0:00:08\n",
            "   ----------- --------------------------- 117.6/390.3 MB 38.5 MB/s eta 0:00:08\n",
            "   ----------- --------------------------- 119.4/390.3 MB 38.5 MB/s eta 0:00:08\n",
            "   ------------ -------------------------- 121.2/390.3 MB 38.5 MB/s eta 0:00:07\n",
            "   ------------ -------------------------- 122.9/390.3 MB 38.5 MB/s eta 0:00:07\n",
            "   ------------ -------------------------- 124.7/390.3 MB 38.5 MB/s eta 0:00:07\n",
            "   ------------ -------------------------- 126.5/390.3 MB 38.6 MB/s eta 0:00:07\n",
            "   ------------ -------------------------- 128.2/390.3 MB 40.9 MB/s eta 0:00:07\n",
            "   ------------ -------------------------- 130.0/390.3 MB 38.5 MB/s eta 0:00:07\n",
            "   ------------- ------------------------- 131.6/390.3 MB 38.6 MB/s eta 0:00:07\n",
            "   ------------- ------------------------- 133.0/390.3 MB 36.4 MB/s eta 0:00:08\n",
            "   ------------- ------------------------- 135.3/390.3 MB 38.6 MB/s eta 0:00:07\n",
            "   ------------- ------------------------- 137.1/390.3 MB 38.5 MB/s eta 0:00:07\n",
            "   ------------- ------------------------- 138.9/390.3 MB 38.5 MB/s eta 0:00:07\n",
            "   -------------- ------------------------ 140.6/390.3 MB 38.5 MB/s eta 0:00:07\n",
            "   -------------- ------------------------ 142.4/390.3 MB 40.9 MB/s eta 0:00:07\n",
            "   -------------- ------------------------ 144.1/390.3 MB 38.5 MB/s eta 0:00:07\n",
            "   -------------- ------------------------ 145.9/390.3 MB 38.6 MB/s eta 0:00:07\n",
            "   -------------- ------------------------ 147.7/390.3 MB 38.6 MB/s eta 0:00:07\n",
            "   -------------- ------------------------ 149.5/390.3 MB 38.6 MB/s eta 0:00:07\n",
            "   --------------- ----------------------- 151.3/390.3 MB 38.5 MB/s eta 0:00:07\n",
            "   --------------- ----------------------- 153.0/390.3 MB 38.5 MB/s eta 0:00:07\n",
            "   --------------- ----------------------- 154.7/390.3 MB 38.5 MB/s eta 0:00:07\n",
            "   --------------- ----------------------- 156.0/390.3 MB 38.5 MB/s eta 0:00:07\n",
            "   --------------- ----------------------- 156.9/390.3 MB 32.7 MB/s eta 0:00:08\n",
            "   --------------- ----------------------- 158.9/390.3 MB 34.6 MB/s eta 0:00:07\n",
            "   --------------- ----------------------- 159.5/390.3 MB 32.7 MB/s eta 0:00:08\n",
            "   --------------- ----------------------- 159.8/390.3 MB 28.4 MB/s eta 0:00:09\n",
            "   ---------------- ---------------------- 160.2/390.3 MB 26.2 MB/s eta 0:00:09\n",
            "   ---------------- ---------------------- 161.3/390.3 MB 24.2 MB/s eta 0:00:10\n",
            "   ---------------- ---------------------- 163.8/390.3 MB 26.2 MB/s eta 0:00:09\n",
            "   ---------------- ---------------------- 165.7/390.3 MB 25.1 MB/s eta 0:00:09\n",
            "   ---------------- ---------------------- 167.4/390.3 MB 28.5 MB/s eta 0:00:08\n",
            "   ---------------- ---------------------- 169.4/390.3 MB 28.4 MB/s eta 0:00:08\n",
            "   ----------------- --------------------- 172.3/390.3 MB 50.4 MB/s eta 0:00:05\n",
            "   ----------------- --------------------- 175.0/390.3 MB 50.1 MB/s eta 0:00:05\n",
            "   ----------------- --------------------- 177.2/390.3 MB 54.7 MB/s eta 0:00:04\n",
            "   ----------------- --------------------- 179.5/390.3 MB 54.7 MB/s eta 0:00:04\n",
            "   ------------------ -------------------- 181.3/390.3 MB 50.4 MB/s eta 0:00:05\n",
            "   ------------------ -------------------- 182.6/390.3 MB 46.7 MB/s eta 0:00:05\n",
            "   ------------------ -------------------- 184.8/390.3 MB 43.7 MB/s eta 0:00:05\n",
            "   ------------------ -------------------- 186.5/390.3 MB 40.9 MB/s eta 0:00:05\n",
            "   ------------------ -------------------- 188.4/390.3 MB 38.5 MB/s eta 0:00:06\n",
            "   ------------------ -------------------- 189.5/390.3 MB 38.5 MB/s eta 0:00:06\n",
            "   ------------------- ------------------- 191.8/390.3 MB 38.6 MB/s eta 0:00:06\n",
            "   ------------------- ------------------- 192.6/390.3 MB 36.4 MB/s eta 0:00:06\n",
            "   ------------------- ------------------- 194.7/390.3 MB 34.4 MB/s eta 0:00:06\n",
            "   ------------------- ------------------- 196.3/390.3 MB 32.7 MB/s eta 0:00:06\n",
            "   ------------------- ------------------- 197.6/390.3 MB 31.1 MB/s eta 0:00:07\n",
            "   ------------------- ------------------- 199.1/390.3 MB 31.2 MB/s eta 0:00:07\n",
            "   ------------------- ------------------- 200.1/390.3 MB 31.2 MB/s eta 0:00:07\n",
            "   -------------------- ------------------ 200.9/390.3 MB 27.3 MB/s eta 0:00:07\n",
            "   -------------------- ------------------ 202.6/390.3 MB 27.3 MB/s eta 0:00:07\n",
            "   -------------------- ------------------ 204.6/390.3 MB 27.3 MB/s eta 0:00:07\n",
            "   -------------------- ------------------ 206.2/390.3 MB 29.7 MB/s eta 0:00:07\n",
            "   -------------------- ------------------ 208.2/390.3 MB 29.8 MB/s eta 0:00:07\n",
            "   -------------------- ------------------ 209.3/390.3 MB 31.1 MB/s eta 0:00:06\n",
            "   --------------------- ----------------- 210.6/390.3 MB 34.6 MB/s eta 0:00:06\n",
            "   --------------------- ----------------- 212.1/390.3 MB 36.4 MB/s eta 0:00:05\n",
            "   --------------------- ----------------- 214.1/390.3 MB 36.4 MB/s eta 0:00:05\n",
            "   --------------------- ----------------- 216.0/390.3 MB 36.4 MB/s eta 0:00:05\n",
            "   --------------------- ----------------- 217.0/390.3 MB 32.7 MB/s eta 0:00:06\n",
            "   --------------------- ----------------- 219.2/390.3 MB 36.4 MB/s eta 0:00:05\n",
            "   ---------------------- ---------------- 221.7/390.3 MB 38.5 MB/s eta 0:00:05\n",
            "   ---------------------- ---------------- 222.9/390.3 MB 38.5 MB/s eta 0:00:05\n",
            "   ---------------------- ---------------- 223.8/390.3 MB 36.4 MB/s eta 0:00:05\n",
            "   ---------------------- ---------------- 224.7/390.3 MB 32.8 MB/s eta 0:00:06\n",
            "   ---------------------- ---------------- 225.9/390.3 MB 31.2 MB/s eta 0:00:06\n",
            "   ---------------------- ---------------- 227.6/390.3 MB 32.8 MB/s eta 0:00:05\n",
            "   ---------------------- ---------------- 229.6/390.3 MB 32.7 MB/s eta 0:00:05\n",
            "   ----------------------- --------------- 230.6/390.3 MB 29.7 MB/s eta 0:00:06\n",
            "   ----------------------- --------------- 232.2/390.3 MB 29.7 MB/s eta 0:00:06\n",
            "   ----------------------- --------------- 234.2/390.3 MB 32.7 MB/s eta 0:00:05\n",
            "   ----------------------- --------------- 235.4/390.3 MB 32.8 MB/s eta 0:00:05\n",
            "   ----------------------- --------------- 236.1/390.3 MB 32.7 MB/s eta 0:00:05\n",
            "   ----------------------- --------------- 236.7/390.3 MB 29.7 MB/s eta 0:00:06\n",
            "   ----------------------- --------------- 237.4/390.3 MB 25.1 MB/s eta 0:00:07\n",
            "   ----------------------- --------------- 237.9/390.3 MB 23.4 MB/s eta 0:00:07\n",
            "   ----------------------- --------------- 238.8/390.3 MB 22.6 MB/s eta 0:00:07\n",
            "   ----------------------- --------------- 239.6/390.3 MB 19.8 MB/s eta 0:00:08\n",
            "   ----------------------- --------------- 240.1/390.3 MB 19.8 MB/s eta 0:00:08\n",
            "   ------------------------ -------------- 240.5/390.3 MB 18.2 MB/s eta 0:00:09\n",
            "   ------------------------ -------------- 241.3/390.3 MB 16.8 MB/s eta 0:00:09\n",
            "   ------------------------ -------------- 242.2/390.3 MB 15.2 MB/s eta 0:00:10\n",
            "   ------------------------ -------------- 244.2/390.3 MB 15.6 MB/s eta 0:00:10\n",
            "   ------------------------ -------------- 245.3/390.3 MB 15.6 MB/s eta 0:00:10\n",
            "   ------------------------ -------------- 245.4/390.3 MB 15.6 MB/s eta 0:00:10\n",
            "   ------------------------ -------------- 245.7/390.3 MB 14.2 MB/s eta 0:00:11\n",
            "   ------------------------ -------------- 247.2/390.3 MB 15.2 MB/s eta 0:00:10\n",
            "   ------------------------ -------------- 248.4/390.3 MB 16.4 MB/s eta 0:00:09\n",
            "   ------------------------ -------------- 249.5/390.3 MB 17.7 MB/s eta 0:00:08\n",
            "   ------------------------ -------------- 249.9/390.3 MB 16.8 MB/s eta 0:00:09\n",
            "   ------------------------- ------------- 250.6/390.3 MB 18.7 MB/s eta 0:00:08\n",
            "   ------------------------- ------------- 250.7/390.3 MB 16.0 MB/s eta 0:00:09\n",
            "   ------------------------- ------------- 250.9/390.3 MB 15.2 MB/s eta 0:00:10\n",
            "   ------------------------- ------------- 251.1/390.3 MB 14.6 MB/s eta 0:00:10\n",
            "   ------------------------- ------------- 251.3/390.3 MB 14.2 MB/s eta 0:00:10\n",
            "   ------------------------- ------------- 251.6/390.3 MB 14.2 MB/s eta 0:00:10\n",
            "   ------------------------- ------------- 252.8/390.3 MB 13.9 MB/s eta 0:00:10\n",
            "   ------------------------- ------------- 253.7/390.3 MB 13.9 MB/s eta 0:00:10\n",
            "   ------------------------- ------------- 253.8/390.3 MB 13.4 MB/s eta 0:00:11\n",
            "   ------------------------- ------------- 253.9/390.3 MB 12.4 MB/s eta 0:00:12\n",
            "   ------------------------- ------------- 254.3/390.3 MB 11.5 MB/s eta 0:00:12\n",
            "   ------------------------- ------------- 254.8/390.3 MB 11.3 MB/s eta 0:00:12\n",
            "   ------------------------- ------------- 256.0/390.3 MB 12.4 MB/s eta 0:00:11\n",
            "   ------------------------- ------------- 257.2/390.3 MB 12.4 MB/s eta 0:00:11\n",
            "   ------------------------- ------------- 259.1/390.3 MB 12.4 MB/s eta 0:00:11\n",
            "   -------------------------- ------------ 260.3/390.3 MB 13.4 MB/s eta 0:00:10\n",
            "   -------------------------- ------------ 261.2/390.3 MB 16.0 MB/s eta 0:00:09\n",
            "   -------------------------- ------------ 262.2/390.3 MB 18.7 MB/s eta 0:00:07\n",
            "   -------------------------- ------------ 263.7/390.3 MB 18.2 MB/s eta 0:00:07\n",
            "   -------------------------- ------------ 264.8/390.3 MB 24.2 MB/s eta 0:00:06\n",
            "   -------------------------- ------------ 266.1/390.3 MB 25.1 MB/s eta 0:00:05\n",
            "   -------------------------- ------------ 267.8/390.3 MB 27.3 MB/s eta 0:00:05\n",
            "   -------------------------- ------------ 269.6/390.3 MB 27.3 MB/s eta 0:00:05\n",
            "   --------------------------- ----------- 271.2/390.3 MB 29.7 MB/s eta 0:00:05\n",
            "   --------------------------- ----------- 272.8/390.3 MB 32.8 MB/s eta 0:00:04\n",
            "   --------------------------- ----------- 274.3/390.3 MB 32.8 MB/s eta 0:00:04\n",
            "   --------------------------- ----------- 275.9/390.3 MB 36.4 MB/s eta 0:00:04\n",
            "   --------------------------- ----------- 278.4/390.3 MB 38.5 MB/s eta 0:00:03\n",
            "   --------------------------- ----------- 279.9/390.3 MB 38.5 MB/s eta 0:00:03\n",
            "   ---------------------------- ---------- 282.3/390.3 MB 40.9 MB/s eta 0:00:03\n",
            "   ---------------------------- ---------- 284.6/390.3 MB 43.5 MB/s eta 0:00:03\n",
            "   ---------------------------- ---------- 287.0/390.3 MB 46.7 MB/s eta 0:00:03\n",
            "   ---------------------------- ---------- 289.0/390.3 MB 46.9 MB/s eta 0:00:03\n",
            "   ----------------------------- --------- 290.7/390.3 MB 46.9 MB/s eta 0:00:03\n",
            "   ----------------------------- --------- 292.1/390.3 MB 43.7 MB/s eta 0:00:03\n",
            "   ----------------------------- --------- 293.6/390.3 MB 38.5 MB/s eta 0:00:03\n",
            "   ----------------------------- --------- 295.1/390.3 MB 36.4 MB/s eta 0:00:03\n",
            "   ----------------------------- --------- 297.1/390.3 MB 36.4 MB/s eta 0:00:03\n",
            "   ----------------------------- --------- 299.4/390.3 MB 36.3 MB/s eta 0:00:03\n",
            "   ------------------------------ -------- 301.7/390.3 MB 38.5 MB/s eta 0:00:03\n",
            "   ------------------------------ -------- 303.6/390.3 MB 46.7 MB/s eta 0:00:02\n",
            "   ------------------------------ -------- 305.1/390.3 MB 43.7 MB/s eta 0:00:02\n",
            "   ------------------------------ -------- 307.4/390.3 MB 43.7 MB/s eta 0:00:02\n",
            "   ------------------------------ -------- 309.6/390.3 MB 43.7 MB/s eta 0:00:02\n",
            "   ------------------------------- ------- 311.6/390.3 MB 43.7 MB/s eta 0:00:02\n",
            "   ------------------------------- ------- 312.9/390.3 MB 40.9 MB/s eta 0:00:02\n",
            "   ------------------------------- ------- 314.7/390.3 MB 43.7 MB/s eta 0:00:02\n",
            "   ------------------------------- ------- 316.9/390.3 MB 40.9 MB/s eta 0:00:02\n",
            "   ------------------------------- ------- 318.2/390.3 MB 38.5 MB/s eta 0:00:02\n",
            "   ------------------------------- ------- 319.3/390.3 MB 34.4 MB/s eta 0:00:03\n",
            "   -------------------------------- ------ 321.3/390.3 MB 34.4 MB/s eta 0:00:03\n",
            "   -------------------------------- ------ 322.0/390.3 MB 32.8 MB/s eta 0:00:03\n",
            "   -------------------------------- ------ 322.4/390.3 MB 28.5 MB/s eta 0:00:03\n",
            "   -------------------------------- ------ 322.4/390.3 MB 26.2 MB/s eta 0:00:03\n",
            "   -------------------------------- ------ 322.5/390.3 MB 24.2 MB/s eta 0:00:03\n",
            "   -------------------------------- ------ 322.6/390.3 MB 23.4 MB/s eta 0:00:03\n",
            "   -------------------------------- ------ 322.8/390.3 MB 19.8 MB/s eta 0:00:04\n",
            "   -------------------------------- ------ 324.0/390.3 MB 19.8 MB/s eta 0:00:04\n",
            "   -------------------------------- ------ 325.9/390.3 MB 19.8 MB/s eta 0:00:04\n",
            "   -------------------------------- ------ 328.2/390.3 MB 20.5 MB/s eta 0:00:04\n",
            "   -------------------------------- ------ 330.0/390.3 MB 21.1 MB/s eta 0:00:03\n",
            "   --------------------------------- ----- 331.5/390.3 MB 19.9 MB/s eta 0:00:03\n",
            "   --------------------------------- ----- 333.1/390.3 MB 38.6 MB/s eta 0:00:02\n",
            "   --------------------------------- ----- 335.0/390.3 MB 40.9 MB/s eta 0:00:02\n",
            "   --------------------------------- ----- 335.8/390.3 MB 34.4 MB/s eta 0:00:02\n",
            "   --------------------------------- ----- 337.2/390.3 MB 34.4 MB/s eta 0:00:02\n",
            "   --------------------------------- ----- 339.6/390.3 MB 34.4 MB/s eta 0:00:02\n",
            "   ---------------------------------- ---- 341.2/390.3 MB 38.6 MB/s eta 0:00:02\n",
            "   ---------------------------------- ---- 342.9/390.3 MB 34.4 MB/s eta 0:00:02\n",
            "   ---------------------------------- ---- 344.3/390.3 MB 34.4 MB/s eta 0:00:02\n",
            "   ---------------------------------- ---- 345.8/390.3 MB 34.6 MB/s eta 0:00:02\n",
            "   ---------------------------------- ---- 347.6/390.3 MB 38.6 MB/s eta 0:00:02\n",
            "   ---------------------------------- ---- 349.7/390.3 MB 36.4 MB/s eta 0:00:02\n",
            "   ----------------------------------- --- 351.4/390.3 MB 34.4 MB/s eta 0:00:02\n",
            "   ----------------------------------- --- 353.6/390.3 MB 38.5 MB/s eta 0:00:01\n",
            "   ----------------------------------- --- 354.7/390.3 MB 38.5 MB/s eta 0:00:01\n",
            "   ----------------------------------- --- 357.2/390.3 MB 40.9 MB/s eta 0:00:01\n",
            "   ----------------------------------- --- 357.7/390.3 MB 38.5 MB/s eta 0:00:01\n",
            "   ----------------------------------- --- 357.8/390.3 MB 34.4 MB/s eta 0:00:01\n",
            "   ----------------------------------- --- 358.0/390.3 MB 28.4 MB/s eta 0:00:02\n",
            "   ----------------------------------- --- 358.7/390.3 MB 26.2 MB/s eta 0:00:02\n",
            "   ------------------------------------ -- 361.2/390.3 MB 26.2 MB/s eta 0:00:02\n",
            "   ------------------------------------ -- 362.2/390.3 MB 25.2 MB/s eta 0:00:02\n",
            "   ------------------------------------ -- 364.0/390.3 MB 25.2 MB/s eta 0:00:02\n",
            "   ------------------------------------ -- 366.0/390.3 MB 26.2 MB/s eta 0:00:01\n",
            "   ------------------------------------ -- 367.8/390.3 MB 25.1 MB/s eta 0:00:01\n",
            "   ------------------------------------ -- 368.9/390.3 MB 36.4 MB/s eta 0:00:01\n",
            "   ------------------------------------ -- 369.4/390.3 MB 32.7 MB/s eta 0:00:01\n",
            "   ------------------------------------- - 370.6/390.3 MB 31.1 MB/s eta 0:00:01\n",
            "   ------------------------------------- - 370.6/390.3 MB 29.7 MB/s eta 0:00:01\n",
            "   ------------------------------------- - 370.9/390.3 MB 24.2 MB/s eta 0:00:01\n",
            "   ------------------------------------- - 372.2/390.3 MB 25.1 MB/s eta 0:00:01\n",
            "   ------------------------------------- - 373.2/390.3 MB 23.4 MB/s eta 0:00:01\n",
            "   ------------------------------------- - 374.4/390.3 MB 22.6 MB/s eta 0:00:01\n",
            "   ------------------------------------- - 375.8/390.3 MB 21.8 MB/s eta 0:00:01\n",
            "   ------------------------------------- - 377.2/390.3 MB 21.1 MB/s eta 0:00:01\n",
            "   ------------------------------------- - 378.1/390.3 MB 21.1 MB/s eta 0:00:01\n",
            "   ------------------------------------- - 379.5/390.3 MB 21.9 MB/s eta 0:00:01\n",
            "   --------------------------------------  380.8/390.3 MB 22.6 MB/s eta 0:00:01\n",
            "   --------------------------------------  382.6/390.3 MB 28.5 MB/s eta 0:00:01\n",
            "   --------------------------------------  383.8/390.3 MB 28.5 MB/s eta 0:00:01\n",
            "   --------------------------------------  385.1/390.3 MB 29.8 MB/s eta 0:00:01\n",
            "   --------------------------------------  386.7/390.3 MB 29.7 MB/s eta 0:00:01\n",
            "   --------------------------------------  388.2/390.3 MB 31.2 MB/s eta 0:00:01\n",
            "   --------------------------------------  389.0/390.3 MB 31.2 MB/s eta 0:00:01\n",
            "   --------------------------------------  389.5/390.3 MB 28.5 MB/s eta 0:00:01\n",
            "   --------------------------------------  390.1/390.3 MB 25.1 MB/s eta 0:00:01\n",
            "   --------------------------------------  390.3/390.3 MB 25.1 MB/s eta 0:00:01\n",
            "   --------------------------------------  390.3/390.3 MB 25.1 MB/s eta 0:00:01\n",
            "   --------------------------------------  390.3/390.3 MB 25.1 MB/s eta 0:00:01\n",
            "   --------------------------------------  390.3/390.3 MB 25.1 MB/s eta 0:00:01\n",
            "   --------------------------------------  390.3/390.3 MB 25.1 MB/s eta 0:00:01\n",
            "   --------------------------------------  390.3/390.3 MB 25.1 MB/s eta 0:00:01\n",
            "   --------------------------------------  390.3/390.3 MB 25.1 MB/s eta 0:00:01\n",
            "   --------------------------------------  390.3/390.3 MB 25.1 MB/s eta 0:00:01\n",
            "   --------------------------------------  390.3/390.3 MB 25.1 MB/s eta 0:00:01\n",
            "   --------------------------------------  390.3/390.3 MB 25.1 MB/s eta 0:00:01\n",
            "   --------------------------------------  390.3/390.3 MB 25.1 MB/s eta 0:00:01\n",
            "   --------------------------------------  390.3/390.3 MB 25.1 MB/s eta 0:00:01\n",
            "   --------------------------------------  390.3/390.3 MB 25.1 MB/s eta 0:00:01\n",
            "   --------------------------------------  390.3/390.3 MB 25.1 MB/s eta 0:00:01\n",
            "   --------------------------------------  390.3/390.3 MB 25.1 MB/s eta 0:00:01\n",
            "   --------------------------------------  390.3/390.3 MB 25.1 MB/s eta 0:00:01\n",
            "   --------------------------------------  390.3/390.3 MB 25.1 MB/s eta 0:00:01\n",
            "   --------------------------------------  390.3/390.3 MB 25.1 MB/s eta 0:00:01\n",
            "   ---------------------------------------- 390.3/390.3 MB 8.0 MB/s eta 0:00:00\n",
            "Using cached absl_py-2.1.0-py3-none-any.whl (133 kB)\n",
            "Using cached astunparse-1.6.3-py2.py3-none-any.whl (12 kB)\n",
            "Downloading flatbuffers-25.2.10-py2.py3-none-any.whl (30 kB)\n",
            "Downloading gast-0.6.0-py3-none-any.whl (21 kB)\n",
            "Using cached google_pasta-0.2.0-py3-none-any.whl (57 kB)\n",
            "Downloading grpcio-1.70.0-cp312-cp312-win_amd64.whl (4.3 MB)\n",
            "   ---------------------------------------- 0.0/4.3 MB ? eta -:--:--\n",
            "   ---------- ----------------------------- 1.1/4.3 MB 33.9 MB/s eta 0:00:01\n",
            "   ------------------------- -------------- 2.7/4.3 MB 34.9 MB/s eta 0:00:01\n",
            "   -------------------------------------- - 4.1/4.3 MB 32.9 MB/s eta 0:00:01\n",
            "   ---------------------------------------- 4.3/4.3 MB 27.3 MB/s eta 0:00:00\n",
            "Downloading keras-3.8.0-py3-none-any.whl (1.3 MB)\n",
            "   ---------------------------------------- 0.0/1.3 MB ? eta -:--:--\n",
            "   ---------------------------------------  1.3/1.3 MB 41.6 MB/s eta 0:00:01\n",
            "   ---------------------------------------- 1.3/1.3 MB 27.5 MB/s eta 0:00:00\n",
            "Using cached libclang-18.1.1-py2.py3-none-win_amd64.whl (26.4 MB)\n",
            "Downloading ml_dtypes-0.4.1-cp312-cp312-win_amd64.whl (127 kB)\n",
            "   ---------------------------------------- 0.0/127.5 kB ? eta -:--:--\n",
            "   ---------------------------------------- 127.5/127.5 kB 7.3 MB/s eta 0:00:00\n",
            "Using cached opt_einsum-3.4.0-py3-none-any.whl (71 kB)\n",
            "Downloading tensorboard-2.18.0-py3-none-any.whl (5.5 MB)\n",
            "   ---------------------------------------- 0.0/5.5 MB ? eta -:--:--\n",
            "   ------------ --------------------------- 1.7/5.5 MB 37.0 MB/s eta 0:00:01\n",
            "   ------------------- -------------------- 2.7/5.5 MB 34.9 MB/s eta 0:00:01\n",
            "   ----------------------------- ---------- 4.1/5.5 MB 29.0 MB/s eta 0:00:01\n",
            "   ---------------------------------------  5.5/5.5 MB 32.1 MB/s eta 0:00:01\n",
            "   ---------------------------------------- 5.5/5.5 MB 29.4 MB/s eta 0:00:00\n",
            "Downloading termcolor-2.5.0-py3-none-any.whl (7.8 kB)\n",
            "Using cached tensorboard_data_server-0.7.2-py3-none-any.whl (2.4 kB)\n",
            "Downloading namex-0.0.8-py3-none-any.whl (5.8 kB)\n",
            "Downloading optree-0.14.0-cp312-cp312-win_amd64.whl (299 kB)\n",
            "   ---------------------------------------- 0.0/299.6 kB ? eta -:--:--\n",
            "   --------------------------------------- 299.6/299.6 kB 18.1 MB/s eta 0:00:00\n",
            "Installing collected packages: namex, libclang, flatbuffers, termcolor, tensorboard-data-server, optree, opt-einsum, ml-dtypes, grpcio, google-pasta, gast, astunparse, absl-py, tensorboard, keras, tensorflow-intel, tensorflow\n",
            "Successfully installed absl-py-2.1.0 astunparse-1.6.3 flatbuffers-25.2.10 gast-0.6.0 google-pasta-0.2.0 grpcio-1.70.0 keras-3.8.0 libclang-18.1.1 ml-dtypes-0.4.1 namex-0.0.8 opt-einsum-3.4.0 optree-0.14.0 tensorboard-2.18.0 tensorboard-data-server-0.7.2 tensorflow-2.18.0 tensorflow-intel-2.18.0 termcolor-2.5.0\n",
            "Note: you may need to restart the kernel to use updated packages.\n"
          ]
        }
      ],
      "source": [
        "pip install tensorflow"
      ]
    },
    {
      "cell_type": "code",
      "execution_count": 4,
      "metadata": {
        "id": "8yekIp_Onwn8"
      },
      "outputs": [],
      "source": [
        "import pandas as pd\n",
        "import numpy as np\n",
        "from datetime import datetime\n",
        "import matplotlib.pyplot as plt\n",
        "%matplotlib inline\n",
        "import seaborn as sns\n",
        "\n",
        "from sklearn.preprocessing import OneHotEncoder, StandardScaler\n",
        "from sklearn.impute import SimpleImputer\n",
        "from sklearn.model_selection import train_test_split, GridSearchCV\n",
        "from sklearn.linear_model import LogisticRegression\n",
        "from xgboost import XGBClassifier\n",
        "from sklearn.compose import ColumnTransformer\n",
        "from sklearn.pipeline import Pipeline\n",
        "from statsmodels.tsa.arima.model import ARIMA\n",
        "from sklearn.metrics import classification_report, roc_auc_score, classification_report, accuracy_score, confusion_matrix, roc_auc_score, precision_score, recall_score, f1_score\n",
        "from sklearn.ensemble import RandomForestClassifier\n",
        "from sklearn.pipeline import Pipeline\n",
        "from imblearn.over_sampling import SMOTE\n",
        "from imblearn.pipeline import Pipeline as ImbPipeline\n",
        "\n",
        "from tensorflow.keras.models import Sequential\n",
        "from tensorflow.keras.layers import Dense\n",
        "from tensorflow.keras.optimizers import Adam"
      ]
    },
    {
      "cell_type": "markdown",
      "metadata": {},
      "source": [
        "## Data Preprocessing"
      ]
    },
    {
      "cell_type": "code",
      "execution_count": 5,
      "metadata": {
        "id": "BRV_efk6hOVg"
      },
      "outputs": [
        {
          "data": {
            "text/html": [
              "<div>\n",
              "<style scoped>\n",
              "    .dataframe tbody tr th:only-of-type {\n",
              "        vertical-align: middle;\n",
              "    }\n",
              "\n",
              "    .dataframe tbody tr th {\n",
              "        vertical-align: top;\n",
              "    }\n",
              "\n",
              "    .dataframe thead th {\n",
              "        text-align: right;\n",
              "    }\n",
              "</style>\n",
              "<table border=\"1\" class=\"dataframe\">\n",
              "  <thead>\n",
              "    <tr style=\"text-align: right;\">\n",
              "      <th></th>\n",
              "      <th>Gender</th>\n",
              "      <th>Age</th>\n",
              "      <th>State</th>\n",
              "      <th>Bank_Branch</th>\n",
              "      <th>Account_Type</th>\n",
              "      <th>Transaction_ID</th>\n",
              "      <th>Transaction_Date</th>\n",
              "      <th>Transaction_Time</th>\n",
              "      <th>Transaction_Amount</th>\n",
              "      <th>Merchant_ID</th>\n",
              "      <th>Transaction_Type</th>\n",
              "      <th>Merchant_Category</th>\n",
              "      <th>Account_Balance</th>\n",
              "      <th>Transaction_Device</th>\n",
              "      <th>Transaction_Location</th>\n",
              "      <th>Device_Type</th>\n",
              "      <th>Is_Fraud</th>\n",
              "      <th>Transaction_Currency</th>\n",
              "      <th>Transaction_Description</th>\n",
              "    </tr>\n",
              "  </thead>\n",
              "  <tbody>\n",
              "    <tr>\n",
              "      <th>0</th>\n",
              "      <td>Male</td>\n",
              "      <td>60</td>\n",
              "      <td>Kerala</td>\n",
              "      <td>Thiruvananthapuram Branch</td>\n",
              "      <td>Savings</td>\n",
              "      <td>4fa3208f-9e23-42dc-b330-844829d0c12c</td>\n",
              "      <td>23-01-2025</td>\n",
              "      <td>16:04:07</td>\n",
              "      <td>32415.45</td>\n",
              "      <td>214e03c5-5c34-40d1-a66c-f440aa2bbd02</td>\n",
              "      <td>Transfer</td>\n",
              "      <td>Restaurant</td>\n",
              "      <td>74557.27</td>\n",
              "      <td>Voice Assistant</td>\n",
              "      <td>Thiruvananthapuram, Kerala</td>\n",
              "      <td>POS</td>\n",
              "      <td>0</td>\n",
              "      <td>INR</td>\n",
              "      <td>Bitcoin transaction</td>\n",
              "    </tr>\n",
              "    <tr>\n",
              "      <th>1</th>\n",
              "      <td>Female</td>\n",
              "      <td>51</td>\n",
              "      <td>Maharashtra</td>\n",
              "      <td>Nashik Branch</td>\n",
              "      <td>Business</td>\n",
              "      <td>c9de0c06-2c4c-40a9-97ed-3c7b8f97c79c</td>\n",
              "      <td>11-01-2025</td>\n",
              "      <td>17:14:53</td>\n",
              "      <td>43622.60</td>\n",
              "      <td>f9e3f11f-28d3-4199-b0ca-f225a155ede6</td>\n",
              "      <td>Bill Payment</td>\n",
              "      <td>Restaurant</td>\n",
              "      <td>74622.66</td>\n",
              "      <td>POS Mobile Device</td>\n",
              "      <td>Nashik, Maharashtra</td>\n",
              "      <td>Desktop</td>\n",
              "      <td>0</td>\n",
              "      <td>INR</td>\n",
              "      <td>Grocery delivery</td>\n",
              "    </tr>\n",
              "    <tr>\n",
              "      <th>2</th>\n",
              "      <td>Male</td>\n",
              "      <td>20</td>\n",
              "      <td>Bihar</td>\n",
              "      <td>Bhagalpur Branch</td>\n",
              "      <td>Savings</td>\n",
              "      <td>e41c55f9-c016-4ff3-872b-cae72467c75c</td>\n",
              "      <td>25-01-2025</td>\n",
              "      <td>03:09:52</td>\n",
              "      <td>63062.56</td>\n",
              "      <td>97977d83-5486-4510-af1c-8dada3e1cfa0</td>\n",
              "      <td>Bill Payment</td>\n",
              "      <td>Groceries</td>\n",
              "      <td>66817.99</td>\n",
              "      <td>ATM</td>\n",
              "      <td>Bhagalpur, Bihar</td>\n",
              "      <td>Desktop</td>\n",
              "      <td>0</td>\n",
              "      <td>INR</td>\n",
              "      <td>Mutual fund investment</td>\n",
              "    </tr>\n",
              "    <tr>\n",
              "      <th>3</th>\n",
              "      <td>Female</td>\n",
              "      <td>57</td>\n",
              "      <td>Tamil Nadu</td>\n",
              "      <td>Chennai Branch</td>\n",
              "      <td>Business</td>\n",
              "      <td>7f7ee11b-ff2c-45a3-802a-49bc47c02ecb</td>\n",
              "      <td>19-01-2025</td>\n",
              "      <td>12:27:02</td>\n",
              "      <td>14000.72</td>\n",
              "      <td>f45cd6b3-5092-44d0-8afb-490894605184</td>\n",
              "      <td>Debit</td>\n",
              "      <td>Entertainment</td>\n",
              "      <td>58177.08</td>\n",
              "      <td>POS Mobile App</td>\n",
              "      <td>Chennai, Tamil Nadu</td>\n",
              "      <td>Mobile</td>\n",
              "      <td>0</td>\n",
              "      <td>INR</td>\n",
              "      <td>Food delivery</td>\n",
              "    </tr>\n",
              "    <tr>\n",
              "      <th>4</th>\n",
              "      <td>Female</td>\n",
              "      <td>43</td>\n",
              "      <td>Punjab</td>\n",
              "      <td>Amritsar Branch</td>\n",
              "      <td>Savings</td>\n",
              "      <td>f8e6ac6f-81a1-4985-bf12-f60967d852ef</td>\n",
              "      <td>30-01-2025</td>\n",
              "      <td>18:30:46</td>\n",
              "      <td>18335.16</td>\n",
              "      <td>70dd77dd-3b00-4b2c-8ebc-cfb8af5f6741</td>\n",
              "      <td>Transfer</td>\n",
              "      <td>Entertainment</td>\n",
              "      <td>16108.56</td>\n",
              "      <td>Virtual Card</td>\n",
              "      <td>Amritsar, Punjab</td>\n",
              "      <td>Mobile</td>\n",
              "      <td>0</td>\n",
              "      <td>INR</td>\n",
              "      <td>Debt repayment</td>\n",
              "    </tr>\n",
              "  </tbody>\n",
              "</table>\n",
              "</div>"
            ],
            "text/plain": [
              "   Gender  Age        State                Bank_Branch Account_Type  \\\n",
              "0    Male   60       Kerala  Thiruvananthapuram Branch      Savings   \n",
              "1  Female   51  Maharashtra              Nashik Branch     Business   \n",
              "2    Male   20        Bihar           Bhagalpur Branch      Savings   \n",
              "3  Female   57   Tamil Nadu             Chennai Branch     Business   \n",
              "4  Female   43       Punjab            Amritsar Branch      Savings   \n",
              "\n",
              "                         Transaction_ID Transaction_Date Transaction_Time  \\\n",
              "0  4fa3208f-9e23-42dc-b330-844829d0c12c       23-01-2025         16:04:07   \n",
              "1  c9de0c06-2c4c-40a9-97ed-3c7b8f97c79c       11-01-2025         17:14:53   \n",
              "2  e41c55f9-c016-4ff3-872b-cae72467c75c       25-01-2025         03:09:52   \n",
              "3  7f7ee11b-ff2c-45a3-802a-49bc47c02ecb       19-01-2025         12:27:02   \n",
              "4  f8e6ac6f-81a1-4985-bf12-f60967d852ef       30-01-2025         18:30:46   \n",
              "\n",
              "   Transaction_Amount                           Merchant_ID Transaction_Type  \\\n",
              "0            32415.45  214e03c5-5c34-40d1-a66c-f440aa2bbd02         Transfer   \n",
              "1            43622.60  f9e3f11f-28d3-4199-b0ca-f225a155ede6     Bill Payment   \n",
              "2            63062.56  97977d83-5486-4510-af1c-8dada3e1cfa0     Bill Payment   \n",
              "3            14000.72  f45cd6b3-5092-44d0-8afb-490894605184            Debit   \n",
              "4            18335.16  70dd77dd-3b00-4b2c-8ebc-cfb8af5f6741         Transfer   \n",
              "\n",
              "  Merchant_Category  Account_Balance Transaction_Device  \\\n",
              "0        Restaurant         74557.27    Voice Assistant   \n",
              "1        Restaurant         74622.66  POS Mobile Device   \n",
              "2         Groceries         66817.99                ATM   \n",
              "3     Entertainment         58177.08     POS Mobile App   \n",
              "4     Entertainment         16108.56       Virtual Card   \n",
              "\n",
              "         Transaction_Location Device_Type  Is_Fraud Transaction_Currency  \\\n",
              "0  Thiruvananthapuram, Kerala         POS         0                  INR   \n",
              "1         Nashik, Maharashtra     Desktop         0                  INR   \n",
              "2            Bhagalpur, Bihar     Desktop         0                  INR   \n",
              "3         Chennai, Tamil Nadu      Mobile         0                  INR   \n",
              "4            Amritsar, Punjab      Mobile         0                  INR   \n",
              "\n",
              "  Transaction_Description  \n",
              "0     Bitcoin transaction  \n",
              "1        Grocery delivery  \n",
              "2  Mutual fund investment  \n",
              "3           Food delivery  \n",
              "4          Debt repayment  "
            ]
          },
          "execution_count": 5,
          "metadata": {},
          "output_type": "execute_result"
        }
      ],
      "source": [
        "# bank_df = pd.read_csv('./data/new_bank_fraud_detection.csv', encoding='utf-8', index_col=0)\n",
        "bank_df = pd.read_csv('./data/new_bank_fraud_detection.csv', index_col=0)\n",
        "bank_df.head()"
      ]
    },
    {
      "cell_type": "code",
      "execution_count": 7,
      "metadata": {},
      "outputs": [
        {
          "name": "stdout",
          "output_type": "stream",
          "text": [
            "<class 'pandas.core.frame.DataFrame'>\n",
            "Index: 200000 entries, 0 to 199999\n",
            "Data columns (total 19 columns):\n",
            " #   Column                   Non-Null Count   Dtype  \n",
            "---  ------                   --------------   -----  \n",
            " 0   Gender                   200000 non-null  object \n",
            " 1   Age                      200000 non-null  int64  \n",
            " 2   State                    200000 non-null  object \n",
            " 3   Bank_Branch              200000 non-null  object \n",
            " 4   Account_Type             200000 non-null  object \n",
            " 5   Transaction_ID           200000 non-null  object \n",
            " 6   Transaction_Date         200000 non-null  object \n",
            " 7   Transaction_Time         200000 non-null  object \n",
            " 8   Transaction_Amount       200000 non-null  float64\n",
            " 9   Merchant_ID              200000 non-null  object \n",
            " 10  Transaction_Type         200000 non-null  object \n",
            " 11  Merchant_Category        200000 non-null  object \n",
            " 12  Account_Balance          200000 non-null  float64\n",
            " 13  Transaction_Device       200000 non-null  object \n",
            " 14  Transaction_Location     200000 non-null  object \n",
            " 15  Device_Type              200000 non-null  object \n",
            " 16  Is_Fraud                 200000 non-null  int64  \n",
            " 17  Transaction_Currency     200000 non-null  object \n",
            " 18  Transaction_Description  200000 non-null  object \n",
            "dtypes: float64(2), int64(2), object(15)\n",
            "memory usage: 30.5+ MB\n"
          ]
        }
      ],
      "source": [
        "bank_df.info()"
      ]
    },
    {
      "cell_type": "code",
      "execution_count": 8,
      "metadata": {
        "id": "4G74CNDQLJW4"
      },
      "outputs": [
        {
          "data": {
            "text/html": [
              "<div>\n",
              "<style scoped>\n",
              "    .dataframe tbody tr th:only-of-type {\n",
              "        vertical-align: middle;\n",
              "    }\n",
              "\n",
              "    .dataframe tbody tr th {\n",
              "        vertical-align: top;\n",
              "    }\n",
              "\n",
              "    .dataframe thead th {\n",
              "        text-align: right;\n",
              "    }\n",
              "</style>\n",
              "<table border=\"1\" class=\"dataframe\">\n",
              "  <thead>\n",
              "    <tr style=\"text-align: right;\">\n",
              "      <th></th>\n",
              "      <th>Age</th>\n",
              "      <th>Transaction_Amount</th>\n",
              "      <th>Account_Balance</th>\n",
              "      <th>Is_Fraud</th>\n",
              "    </tr>\n",
              "  </thead>\n",
              "  <tbody>\n",
              "    <tr>\n",
              "      <th>count</th>\n",
              "      <td>200000.000000</td>\n",
              "      <td>200000.000000</td>\n",
              "      <td>200000.000000</td>\n",
              "      <td>200000.000000</td>\n",
              "    </tr>\n",
              "    <tr>\n",
              "      <th>mean</th>\n",
              "      <td>44.015110</td>\n",
              "      <td>49538.015554</td>\n",
              "      <td>52437.988784</td>\n",
              "      <td>0.050440</td>\n",
              "    </tr>\n",
              "    <tr>\n",
              "      <th>std</th>\n",
              "      <td>15.288774</td>\n",
              "      <td>28551.874004</td>\n",
              "      <td>27399.507128</td>\n",
              "      <td>0.218852</td>\n",
              "    </tr>\n",
              "    <tr>\n",
              "      <th>min</th>\n",
              "      <td>18.000000</td>\n",
              "      <td>10.290000</td>\n",
              "      <td>5000.820000</td>\n",
              "      <td>0.000000</td>\n",
              "    </tr>\n",
              "    <tr>\n",
              "      <th>25%</th>\n",
              "      <td>31.000000</td>\n",
              "      <td>24851.345000</td>\n",
              "      <td>28742.395000</td>\n",
              "      <td>0.000000</td>\n",
              "    </tr>\n",
              "    <tr>\n",
              "      <th>50%</th>\n",
              "      <td>44.000000</td>\n",
              "      <td>49502.440000</td>\n",
              "      <td>52372.555000</td>\n",
              "      <td>0.000000</td>\n",
              "    </tr>\n",
              "    <tr>\n",
              "      <th>75%</th>\n",
              "      <td>57.000000</td>\n",
              "      <td>74314.625000</td>\n",
              "      <td>76147.670000</td>\n",
              "      <td>0.000000</td>\n",
              "    </tr>\n",
              "    <tr>\n",
              "      <th>max</th>\n",
              "      <td>70.000000</td>\n",
              "      <td>98999.980000</td>\n",
              "      <td>99999.950000</td>\n",
              "      <td>1.000000</td>\n",
              "    </tr>\n",
              "  </tbody>\n",
              "</table>\n",
              "</div>"
            ],
            "text/plain": [
              "                 Age  Transaction_Amount  Account_Balance       Is_Fraud\n",
              "count  200000.000000       200000.000000    200000.000000  200000.000000\n",
              "mean       44.015110        49538.015554     52437.988784       0.050440\n",
              "std        15.288774        28551.874004     27399.507128       0.218852\n",
              "min        18.000000           10.290000      5000.820000       0.000000\n",
              "25%        31.000000        24851.345000     28742.395000       0.000000\n",
              "50%        44.000000        49502.440000     52372.555000       0.000000\n",
              "75%        57.000000        74314.625000     76147.670000       0.000000\n",
              "max        70.000000        98999.980000     99999.950000       1.000000"
            ]
          },
          "execution_count": 8,
          "metadata": {},
          "output_type": "execute_result"
        }
      ],
      "source": [
        "bank_df.describe()"
      ]
    },
    {
      "cell_type": "code",
      "execution_count": 9,
      "metadata": {
        "id": "xpEIQFrKMKRf"
      },
      "outputs": [
        {
          "data": {
            "text/plain": [
              "Index(['Gender', 'Age', 'State', 'Bank_Branch', 'Account_Type',\n",
              "       'Transaction_ID', 'Transaction_Date', 'Transaction_Time',\n",
              "       'Transaction_Amount', 'Merchant_ID', 'Transaction_Type',\n",
              "       'Merchant_Category', 'Account_Balance', 'Transaction_Device',\n",
              "       'Transaction_Location', 'Device_Type', 'Is_Fraud',\n",
              "       'Transaction_Currency', 'Transaction_Description'],\n",
              "      dtype='object')"
            ]
          },
          "execution_count": 9,
          "metadata": {},
          "output_type": "execute_result"
        }
      ],
      "source": [
        "bank_df.columns"
      ]
    },
    {
      "cell_type": "code",
      "execution_count": 10,
      "metadata": {},
      "outputs": [],
      "source": [
        "bank_df.drop(columns=['Gender','Age'], inplace=True)"
      ]
    },
    {
      "cell_type": "code",
      "execution_count": 11,
      "metadata": {
        "id": "a-HyNNAgProS"
      },
      "outputs": [
        {
          "data": {
            "text/plain": [
              "State                      0\n",
              "Bank_Branch                0\n",
              "Account_Type               0\n",
              "Transaction_ID             0\n",
              "Transaction_Date           0\n",
              "Transaction_Time           0\n",
              "Transaction_Amount         0\n",
              "Merchant_ID                0\n",
              "Transaction_Type           0\n",
              "Merchant_Category          0\n",
              "Account_Balance            0\n",
              "Transaction_Device         0\n",
              "Transaction_Location       0\n",
              "Device_Type                0\n",
              "Is_Fraud                   0\n",
              "Transaction_Currency       0\n",
              "Transaction_Description    0\n",
              "dtype: int64"
            ]
          },
          "execution_count": 11,
          "metadata": {},
          "output_type": "execute_result"
        }
      ],
      "source": [
        "bank_df.isnull().sum()"
      ]
    },
    {
      "cell_type": "code",
      "execution_count": 12,
      "metadata": {
        "id": "DE4GdJFzXlPq"
      },
      "outputs": [
        {
          "data": {
            "text/plain": [
              "State                       object\n",
              "Bank_Branch                 object\n",
              "Account_Type                object\n",
              "Transaction_ID              object\n",
              "Transaction_Date            object\n",
              "Transaction_Time            object\n",
              "Transaction_Amount         float64\n",
              "Merchant_ID                 object\n",
              "Transaction_Type            object\n",
              "Merchant_Category           object\n",
              "Account_Balance            float64\n",
              "Transaction_Device          object\n",
              "Transaction_Location        object\n",
              "Device_Type                 object\n",
              "Is_Fraud                     int64\n",
              "Transaction_Currency        object\n",
              "Transaction_Description     object\n",
              "dtype: object"
            ]
          },
          "execution_count": 12,
          "metadata": {},
          "output_type": "execute_result"
        }
      ],
      "source": [
        "bank_df.dtypes"
      ]
    },
    {
      "cell_type": "markdown",
      "metadata": {
        "id": "72wn64Cs2ZV6"
      },
      "source": [
        "Let's combine the \"Transaction_Date\" and \"Transaction_Time\" columns together, and convert it into a datetime dtype."
      ]
    },
    {
      "cell_type": "code",
      "execution_count": 13,
      "metadata": {
        "id": "XBhY-Giv1vnB"
      },
      "outputs": [
        {
          "name": "stderr",
          "output_type": "stream",
          "text": [
            "C:\\Users\\omend\\AppData\\Local\\Temp\\ipykernel_26012\\2319926438.py:1: UserWarning: Parsing dates in %d-%m-%Y %H:%M:%S format when dayfirst=False (the default) was specified. Pass `dayfirst=True` or specify a format to silence this warning.\n",
            "  bank_df['Transaction_DateTime'] = pd.to_datetime(bank_df['Transaction_Date']+\" \"+bank_df['Transaction_Time'])\n"
          ]
        },
        {
          "data": {
            "text/plain": [
              "State                              object\n",
              "Bank_Branch                        object\n",
              "Account_Type                       object\n",
              "Transaction_ID                     object\n",
              "Transaction_Date                   object\n",
              "Transaction_Time                   object\n",
              "Transaction_Amount                float64\n",
              "Merchant_ID                        object\n",
              "Transaction_Type                   object\n",
              "Merchant_Category                  object\n",
              "Account_Balance                   float64\n",
              "Transaction_Device                 object\n",
              "Transaction_Location               object\n",
              "Device_Type                        object\n",
              "Is_Fraud                            int64\n",
              "Transaction_Currency               object\n",
              "Transaction_Description            object\n",
              "Transaction_DateTime       datetime64[ns]\n",
              "dtype: object"
            ]
          },
          "execution_count": 13,
          "metadata": {},
          "output_type": "execute_result"
        }
      ],
      "source": [
        "bank_df['Transaction_DateTime'] = pd.to_datetime(bank_df['Transaction_Date']+\" \"+bank_df['Transaction_Time'])\n",
        "bank_df[['Transaction_Date','Transaction_Time']]\n",
        "\n",
        "bank_df.dtypes"
      ]
    },
    {
      "cell_type": "code",
      "execution_count": 15,
      "metadata": {
        "id": "NcCFHO7E0bGD"
      },
      "outputs": [
        {
          "data": {
            "text/plain": [
              "State                              object\n",
              "Bank_Branch                        object\n",
              "Account_Type                       object\n",
              "Transaction_ID                     object\n",
              "Transaction_Date                   object\n",
              "Transaction_Time                   object\n",
              "Transaction_Amount                float64\n",
              "Merchant_ID                        object\n",
              "Transaction_Type                   object\n",
              "Merchant_Category                  object\n",
              "Account_Balance                   float64\n",
              "Transaction_Device                 object\n",
              "Transaction_Location               object\n",
              "Device_Type                        object\n",
              "Is_Fraud                            int64\n",
              "Transaction_Currency               object\n",
              "Transaction_Description            object\n",
              "Transaction_DateTime       datetime64[ns]\n",
              "dtype: object"
            ]
          },
          "execution_count": 15,
          "metadata": {},
          "output_type": "execute_result"
        }
      ],
      "source": [
        "# Drop the date and time columns\n",
        "bank_df.drop(columns=['Transaction_Date', 'Transaction_Time'], axis=1)\n",
        "bank_df.dtypes"
      ]
    },
    {
      "cell_type": "markdown",
      "metadata": {},
      "source": [
        "# **Exploratory Data Analysis**"
      ]
    },
    {
      "cell_type": "markdown",
      "metadata": {
        "id": "q9SSzPhYYgfR"
      },
      "source": [
        "## Visualizations\n",
        "\n",
        "We'll start with some descriptive statistics. We'll visualize the distribution of fraudulent transactions that occur within the data. This shows the class distribution and helps you check if the data is imbalanced."
      ]
    },
    {
      "cell_type": "markdown",
      "metadata": {
        "id": "ATiprDDvcB0w"
      },
      "source": [
        "Next, lets check the distribution of Transaction Amounts. This helps visualize the distribution of transaction amounts and understand any skewness."
      ]
    },
    {
      "cell_type": "markdown",
      "metadata": {
        "id": "89xRX0IlR6-L"
      },
      "source": [
        "## **Fraud Distribution**"
      ]
    },
    {
      "cell_type": "code",
      "execution_count": 16,
      "metadata": {
        "id": "KuqZkM1O_RL5"
      },
      "outputs": [
        {
          "data": {
            "image/png": "[encoded data removed]",
            "text/plain": [
              "<Figure size 800x600 with 1 Axes>"
            ]
          },
          "metadata": {},
          "output_type": "display_data"
        }
      ],
      "source": [
        "plt.figure(figsize=(8,6))\n",
        "sns.countplot(x='Is_Fraud', data=bank_df, palette='Set2', hue='Is_Fraud')\n",
        "plt.title('Distribution of Fraudulent vs Non-Fraudulent transactions')\n",
        "plt.xlabel('Transaction Type')\n",
        "plt.ylabel('Count (Thousands)')\n",
        "plt.xticks([0,1], ['Non-Fraud','Fraud'])\n",
        "plt.show()\n"
      ]
    },
    {
      "cell_type": "markdown",
      "metadata": {
        "id": "ElCQKI7ZfFQM"
      },
      "source": [
        "## **Distribution of Transaction Amounts**\n",
        "\n",
        "This histplot can help assess distribution between the transaction amount and whether the transaction is fraudulent or not."
      ]
    },
    {
      "cell_type": "code",
      "execution_count": 17,
      "metadata": {
        "id": "Rmg6PTzAATEq"
      },
      "outputs": [
        {
          "data": {
            "image/png": "[encoded data removed]",
            "text/plain": [
              "<Figure size 800x600 with 1 Axes>"
            ]
          },
          "metadata": {},
          "output_type": "display_data"
        }
      ],
      "source": [
        "plt.figure(figsize=(8,6))\n",
        "sns.histplot(bank_df['Transaction_Amount'], bins=50, kde=True, color='skyblue')\n",
        "plt.title('Distribution of Transaction Amounts')\n",
        "plt.xlabel('Amount')\n",
        "plt.ylabel('Frequency')\n",
        "plt.show()\n"
      ]
    },
    {
      "cell_type": "code",
      "execution_count": 18,
      "metadata": {
        "id": "Z1eQTHQwAcsK"
      },
      "outputs": [
        {
          "name": "stderr",
          "output_type": "stream",
          "text": [
            "C:\\Users\\omend\\AppData\\Local\\Temp\\ipykernel_26012\\1669695059.py:2: FutureWarning: \n",
            "\n",
            "Passing `palette` without assigning `hue` is deprecated and will be removed in v0.14.0. Assign the `x` variable to `hue` and set `legend=False` for the same effect.\n",
            "\n",
            "  sns.boxplot(x='Is_Fraud', y='Transaction_Amount', data=bank_df, palette='Set2')\n"
          ]
        },
        {
          "data": {
            "image/png": "[encoded data removed]",
            "text/plain": [
              "<Figure size 800x600 with 1 Axes>"
            ]
          },
          "metadata": {},
          "output_type": "display_data"
        }
      ],
      "source": [
        "plt.figure(figsize=(8, 6))\n",
        "sns.boxplot(x='Is_Fraud', y='Transaction_Amount', data=bank_df, palette='Set2')\n",
        "plt.title('Transaction Amount vs Fraudulent Transactions')\n",
        "plt.xlabel('Is Fraud')\n",
        "plt.ylabel('Transaction Amount')\n",
        "plt.xticks([0, 1], ['Non-Fraud', 'Fraud'])\n",
        "plt.show()"
      ]
    },
    {
      "cell_type": "markdown",
      "metadata": {
        "id": "idowr8KDRjth"
      },
      "source": [
        "## **Fraud by Transaction Type**"
      ]
    },
    {
      "cell_type": "code",
      "execution_count": 19,
      "metadata": {
        "colab": {
          "base_uri": "https://localhost:8080/",
          "height": 487
        },
        "id": "Aq2hF0iLPuVS",
        "outputId": "4a5da1df-251c-419d-c929-0b421ebda882"
      },
      "outputs": [
        {
          "data": {
            "image/png": "[encoded data removed]",
            "text/plain": [
              "<Figure size 800x500 with 1 Axes>"
            ]
          },
          "metadata": {},
          "output_type": "display_data"
        }
      ],
      "source": [
        "plt.figure(figsize=(8,5))\n",
        "sns.countplot(data=bank_df, x='Transaction_Type', hue='Is_Fraud', palette='coolwarm')\n",
        "plt.title(\"Fraud Count by Transaction Type\")\n",
        "plt.show()"
      ]
    },
    {
      "cell_type": "markdown",
      "metadata": {
        "id": "YmvR0qX_TuRc"
      },
      "source": [
        "## **Time-Based Analysis**"
      ]
    },
    {
      "cell_type": "code",
      "execution_count": 27,
      "metadata": {
        "colab": {
          "base_uri": "https://localhost:8080/",
          "height": 487
        },
        "id": "gSItBx3iTt9s",
        "outputId": "94b1caf0-785b-492e-9f51-5e4c3ccad483"
      },
      "outputs": [
        {
          "data": {
            "image/png": "[encoded data removed]",
            "text/plain": [
              "<Figure size 1000x500 with 1 Axes>"
            ]
          },
          "metadata": {},
          "output_type": "display_data"
        }
      ],
      "source": [
        "if 'Transaction_DateTime' in bank_df.columns:\n",
        "    bank_df['Transaction_DateTime'] = pd.to_datetime(bank_df['Transaction_DateTime'])\n",
        "    bank_df.set_index('Transaction_DateTime', inplace=True)\n",
        "    bank_df['hour'] = bank_df.index.hour\n",
        "\n",
        "    plt.figure(figsize=(10,5))\n",
        "    sns.lineplot(x=bank_df['hour'], y=bank_df['Is_Fraud'])\n",
        "    plt.title(\"Fraud Transactions by Hour of the Day\")\n",
        "    plt.xlabel(\"Hour of the Day\")\n",
        "    plt.ylabel(\"Fraud Count\")\n",
        "    plt.show()\n"
      ]
    },
    {
      "cell_type": "markdown",
      "metadata": {
        "id": "zXUn45bhUbhH"
      },
      "source": [
        "## **Convert Datetime Features**"
      ]
    },
    {
      "cell_type": "code",
      "execution_count": 20,
      "metadata": {
        "id": "LZ9UTJiXUa7N"
      },
      "outputs": [],
      "source": [
        "# if 'Transaction_DateTime' in bank_df.columns:\n",
        "#     bank_df['Transaction_DateTime'] = pd.to_datetime(bank_df['Transaction_DateTime'])\n",
        "#     bank_df['Transaction_Hour'] = bank_df['Transaction_DateTime'].dt.hour\n",
        "#     bank_df['Transaction_Day'] = bank_df['Transaction_DateTime'].dt.dayofweek  # 0=Monday, 6=Sunday\n",
        "#     bank_df.drop(columns=['Transaction_date', 'Transaction_time'], inplace=True)  # Drop original timestamp\n"
      ]
    },
    {
      "cell_type": "code",
      "execution_count": 21,
      "metadata": {
        "id": "mJvkiif3Y_wA"
      },
      "outputs": [
        {
          "name": "stdout",
          "output_type": "stream",
          "text": [
            "Categorical Columns: ['State', 'Bank_Branch', 'Account_Type', 'Transaction_ID', 'Transaction_Date', 'Transaction_Time', 'Merchant_ID', 'Transaction_Type', 'Merchant_Category', 'Transaction_Device', 'Transaction_Location', 'Device_Type', 'Transaction_Currency', 'Transaction_Description']\n"
          ]
        }
      ],
      "source": [
        "categorical_columns = bank_df.select_dtypes(include=['object']).columns.tolist()\n",
        "print(\"Categorical Columns:\", categorical_columns)"
      ]
    },
    {
      "cell_type": "code",
      "execution_count": 22,
      "metadata": {
        "id": "grA485fvZNCH"
      },
      "outputs": [],
      "source": [
        "# Define feature matrix (X) and target variable (y)\n",
        "\n",
        "X = bank_df.drop(columns=['Is_Fraud'])\n",
        "y = bank_df['Is_Fraud']\n",
        "\n",
        "# Split into train (80%) and test (20%)\n",
        "X_train, X_test, y_train, y_test = train_test_split(X, y, test_size=0.2, random_state=33, stratify=y)"
      ]
    },
    {
      "cell_type": "markdown",
      "metadata": {
        "id": "GIy5bhbglcmj"
      },
      "source": [
        "## **Train a Classification Model**"
      ]
    },
    {
      "cell_type": "markdown",
      "metadata": {
        "id": "cOvU0v8yP1Gf"
      },
      "source": [
        "## Baseline Model\n",
        "\n",
        "I'll start by creating a baseline LogisticRegression model. I'll start by Standardizing the categorical columns and Numberical columns.\n",
        "\n",
        "Once standaridized, I will create a pipeline that creates a baseline model."
      ]
    },
    {
      "cell_type": "code",
      "execution_count": 23,
      "metadata": {
        "id": "aXes3KDTlbtC"
      },
      "outputs": [
        {
          "name": "stdout",
          "output_type": "stream",
          "text": [
            "Is_Fraud\n",
            "0    0.949562\n",
            "1    0.050438\n",
            "Name: proportion, dtype: float64\n"
          ]
        }
      ],
      "source": [
        "print(y_train.value_counts(normalize=True))"
      ]
    },
    {
      "cell_type": "markdown",
      "metadata": {
        "id": "LiSr8qHwlrRp"
      },
      "source": [
        "### **Model the pipeline**"
      ]
    },
    {
      "cell_type": "code",
      "execution_count": null,
      "metadata": {
        "colab": {
          "base_uri": "https://localhost:8080/"
        },
        "id": "T7UUaqxkZvfc",
        "outputId": "d5f4a2b7-ab60-4938-ecd1-e7a6f1983d93"
      },
      "outputs": [
        {
          "name": "stdout",
          "output_type": "stream",
          "text": [
            "[[37982     0]\n",
            " [ 2018     0]]\n",
            "              precision    recall  f1-score   support\n",
            "\n",
            "           0       0.95      1.00      0.97     37982\n",
            "           1       1.00      0.00      0.00      2018\n",
            "\n",
            "    accuracy                           0.95     40000\n",
            "   macro avg       0.97      0.50      0.49     40000\n",
            "weighted avg       0.95      0.95      0.92     40000\n",
            "\n"
          ]
        },
        {
          "name": "stderr",
          "output_type": "stream",
          "text": [
            "/usr/local/lib/python3.11/dist-packages/sklearn/preprocessing/_encoders.py:246: UserWarning: Found unknown categories in columns [4, 5] during transform. These unknown categories will be encoded as all zeros\n",
            "  warnings.warn(\n"
          ]
        }
      ],
      "source": [
        "# Identify numerical & categorical columns\n",
        "categorical_columns = X.select_dtypes(include=['object']).columns.tolist()\n",
        "numerical_columns = X.select_dtypes(exclude=['object']).columns.tolist()\n",
        "\n",
        "numeric_transformer = Pipeline([\n",
        "    ('imputer', SimpleImputer(strategy='median')),\n",
        "    ('scaler', StandardScaler())\n",
        "])\n",
        "\n",
        "categorical_transformer = Pipeline([\n",
        "    ('imputer', SimpleImputer(strategy='constant', fill_value='Unknown')),\n",
        "    ('scaler', OneHotEncoder(drop='first', handle_unknown='ignore'))\n",
        "])\n",
        "\n",
        "# Apply transformations\n",
        "preprocessor = ColumnTransformer(\n",
        "    transformers=[\n",
        "        ('cat', categorical_transformer, categorical_columns),  # Categorical encoding\n",
        "        ('num', numeric_transformer, numerical_columns)  # Scale numerical columns\n",
        "    ],\n",
        "    remainder='passthrough'  # Keep all columns not explicitly transformed\n",
        ")\n",
        "\n",
        "logreg_pipeline = Pipeline([\n",
        "    ('preprocesson', preprocessor),\n",
        "    ('classifier', LogisticRegression(solver='liblinear', random_state=33))\n",
        "])\n",
        "\n"
      ]
    },
    {
      "cell_type": "code",
      "execution_count": null,
      "metadata": {},
      "outputs": [],
      "source": [
        "logreg_pipeline.fit(X_train, y_train)\n",
        "y_pred = logreg_pipeline.predict(X_test)\n",
        "print(confusion_matrix(y_test, y_pred))\n",
        "print(classification_report(y_test, y_pred, zero_division=1))"
      ]
    },
    {
      "cell_type": "markdown",
      "metadata": {
        "id": "T6FBX34L3NPa"
      },
      "source": [
        "As shown earlier the dataset is imbalanced between counts that were considered to be fraudulent and counts that were not. Let's use XGBoost to address imblance. It's one of the best classifiers for this type of issue and works well for fraud detection"
      ]
    },
    {
      "cell_type": "code",
      "execution_count": null,
      "metadata": {
        "id": "gh_htRR5togz"
      },
      "outputs": [],
      "source": [
        "# Create XGBoost Pipeline\n",
        "xgb_pipeline = Pipeline([\n",
        "    ('preprocessor', preprocessor),\n",
        "    ('classifier', XGBClassifier(use_label_encoder=False, eval_metric='logloss', random_state=33))\n",
        "])\n",
        "\n",
        "# Define hyperparameters for tuning\n",
        "xgb_params = {\n",
        "    'classifier__n_estimators': [100,300],\n",
        "    'classifier__max_depth': [3,6],\n",
        "    'classifier__learning_rate': [0.01, 0.1]\n",
        "}\n",
        "\n",
        "#Grid Search for best parameters\n",
        "xgb_grid = GridSearchCV(xgb_pipeline, xgb_params, cv=3, scoring='f1', n_jobs=-1)\n",
        "xgb_grid.fit(X_train, y_train)\n",
        "\n",
        "# Best Model Performance\n",
        "y_pred_xgb = xgb_grid.best_estimator_.predict(X_test)\n",
        "print(classification_report(y_test, y_pred_xgb, zero_division=1))"
      ]
    },
    {
      "cell_type": "code",
      "execution_count": null,
      "metadata": {
        "id": "XVoTFu5JCqEO"
      },
      "outputs": [],
      "source": [
        "# Create Random Forest pipeline\n",
        "\n",
        "rf_pipeline =  ImbPipeline([\n",
        "    ('preprocessor', preprocessor),\n",
        "    ('smote',  SMOTE(sampling_strategy='auto', random_state=33)),\n",
        "    ('classifier', RandomForestClassifier(n_estimators=100, class_weight='balanced', random_state=33))\n",
        "])\n",
        "\n",
        "rf_params = {\n",
        "    'classifier__n_estimators': [100, 300],\n",
        "    'classifier__max_depth': [None, 10, 20],\n",
        "    'classifier__min_samples_split': [2,5]\n",
        "}\n",
        "\n",
        "# Grisd Search for best parameters\n",
        "rf_grid = GridSearchCV(rf_pipeline, rf_params, cv=3, scoring='f1', n_jobs=-1)\n",
        "rf_grid.fit(X_train, y_train)\n",
        "\n",
        "# Evaluate best model\n",
        "y_pred_rf = rf_grid.best_estimator_.predict(X_test)\n",
        "print(classification_report(y_test, y_pred_rf, zero_division=1))"
      ]
    },
    {
      "cell_type": "code",
      "execution_count": null,
      "metadata": {
        "id": "6a5NkDY8S3fd"
      },
      "outputs": [],
      "source": [
        "best_rf_model = rf_grid.best_estimator_.named_steps['classifier']\n",
        "feature_importances = best_rf_model.feature_importances_\n",
        "\n",
        "#get feature names\n",
        "feature_name = preprocessor.get_feature_names_out()\n",
        "\n",
        "# Sort features by importance\n",
        "sorted_idx = np.argsort(feature_importances)[::-1]\n",
        "\n",
        "# plot\n",
        "plt.figure(figsize=(10,6))\n",
        "plt.barh(range(len(feature_importances)), feature_importances[sorted_idx], align='center')\n",
        "plt.yticks(range(len(feature_importances)), np.array(feature_name)[sorted_idx])\n",
        "plt.xlabel('Feature Importance Score')\n",
        "plt.title('Random Forest Feature Importance')\n",
        "plt.gca().invert_yaxis()\n",
        "plt.show()\n"
      ]
    },
    {
      "cell_type": "markdown",
      "metadata": {
        "id": "DtZHUrG2Tw3i"
      },
      "source": [
        "## **Time series Forecasting**\n",
        "\n",
        "Let's split the dataset by time rather than randomly."
      ]
    },
    {
      "cell_type": "code",
      "execution_count": null,
      "metadata": {
        "id": "8WMQ8JlYFEH2"
      },
      "outputs": [],
      "source": [
        "bank_df = bank_df.sort_values(by='Transaction_DateTime')  # Ensure data is in time order\n"
      ]
    },
    {
      "cell_type": "code",
      "execution_count": null,
      "metadata": {
        "id": "OIC3wOLTtWFC"
      },
      "outputs": [],
      "source": [
        "train_size = int(0.8 * len(bank_df))\n",
        "train, test = bank_df.iloc[:train_size], bank_df.iloc[train_size:]\n",
        "\n",
        "X_train_time, y_train_time = train.drop(columns=['is_fraud']), train['is_fraud']\n",
        "X_test_time, y_test_time = test.drop(columns=['is_fraud']), test['is_fraud']\n"
      ]
    },
    {
      "cell_type": "code",
      "execution_count": null,
      "metadata": {
        "id": "3NwSiXSjqrdL"
      },
      "outputs": [],
      "source": [
        "from statsmodels.tsa.arima.model import ARIMA\n",
        "\n",
        "# Esure 'Transaction_DATETIME column is set to index\n",
        "bank_df.set_index('Transaction_DateTime', inplace=True)\n",
        "\n",
        "#Aggregate fraud counts over time\n",
        "fraud_counts = bank_df.resample('D')['Is_Fraud'].sum()\n",
        "\n",
        "# Train ARIMA model\n",
        "model = ARIMA(fraud_counts[:train_size], order=(5,1,0))\n",
        "model_fit = model.fit()\n",
        "\n",
        "# forecast future fraud cases\n",
        "forecast = model_fit.forecast(steps=len(test))\n",
        "\n",
        "# plot results\n",
        "plt.figure(figsize=(10,5))\n",
        "plt.plot(fraud_counts, label='Actual Fraud Cases')\n",
        "plt.plot(test.index, forecast, label='ARIMA Forecast', color='red')\n",
        "plt.legend()\n",
        "plt.title('Fraud Prediction using Arima')\n",
        "plt.show()"
      ]
    }
  ],
  "metadata": {
    "colab": {
      "authorship_tag": "ABX9TyPGuUmmJpyq24d8UK61JXrb",
      "include_colab_link": true,
      "provenance": []
    },
    "kernelspec": {
      "display_name": "Python (learn-env)",
      "language": "python",
      "name": "learn-env"
    },
    "language_info": {
      "codemirror_mode": {
        "name": "ipython",
        "version": 3
      },
      "file_extension": ".py",
      "mimetype": "text/x-python",
      "name": "python",
      "nbconvert_exporter": "python",
      "pygments_lexer": "ipython3",
      "version": "3.12.3"
    }
  },
  "nbformat": 4,
  "nbformat_minor": 0
}
