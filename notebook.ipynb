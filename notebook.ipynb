{
  "cells": [
    {
      "cell_type": "markdown",
      "metadata": {
        "id": "view-in-github",
        "colab_type": "text"
      },
      "source": [
        "<a href=\"https://colab.research.google.com/github/omendez930/Bank-Fraud-Detection/blob/main/notebook.ipynb\" target=\"_parent\"><img src=\"https://colab.research.google.com/assets/colab-badge.svg\" alt=\"Open In Colab\"/></a>"
      ]
    },
    {
      "cell_type": "markdown",
      "metadata": {
        "id": "i7kV2J3wnUFk"
      },
      "source": [
        "# **Bank Fraud Detection**\n",
        "\n",
        "# Business Understanding\n",
        "\n",
        "Objective:\n",
        "\n",
        "The primary goal of analyzing this dataset is to detect fraudulent bank transactions. Fraudulent activities can cause significant financial losses for banks and customers. By leveraging machine learning and data analysis, we aim to build a model that can distinguish between legitimate and fraudulent transactions in real time.\n",
        "\n",
        "\n",
        "\n",
        "*   A high-performing fraud detection model that minimizes false positives (legitimate transactions incorrectly flagged as fraud) and false negatives (fraudulent transactions that go undetected).\n",
        "*   The model should generalize well to unseen data to be deployable in a real-world setting.\n",
        "*   Business value: reducing financial losses due to fraud and enhancing customer trust in the bank’s security systems.\n",
        "\n",
        "# Data Understanding\n",
        "\n",
        "Key Features to Examine:\n",
        "\n",
        "The dataset contains 200k rows of transactional data labeled as fraudulent or non-fraudulent. Each row represents a transaction with various features describing its characteristics.\n",
        "\n",
        "\n",
        "\n",
        "1.   Gender: The gender of the consumer (e.G., Male, Female, Other). Four.\n",
        "2.   Age: The age of the consumer at the time of the transaction.\n",
        "3.   State: The nation in which the patron resides.\n",
        "4.   Bank_Branch: The specific financial institution branch wherein the consumer holds their account.\n",
        "5.   Account_Type: The kind of account held with the aid of the customer (e.G., Savings, Checking). Nine.\n",
        "6.   Transaction_ID: A particular identifier for each transaction.\n",
        "7.   Transaction_Date: The date on which the transaction passed off. Eleven.\n",
        "8.   Transaction_Time: The specific time the transaction became initiated.\n",
        "9.   Transaction_Amount: The financial value of the transaction.\n",
        "10.  Merchant_ID: A particular identifier for the merchant worried within the transaction.\n",
        "11.  Transaction_Type: The nature of the transaction (e.G., Withdrawal, Deposit, Transfer).\n",
        "12.   Merchant_Category: The class of the merchant (e.G., Retail, Online, Travel).\n",
        "13.   Account_Balance: The balance of the customer's account after the transaction.\n",
        "14.   Transaction_Device: The tool utilized by the consumer to perform the transaction (e.G., Mobile, Desktop).\n",
        "15.   Transaction_Location: The geographical vicinity (e.G., latitude, longitude) of the transaction.\n",
        "16.   Device_Type: The kind of device used for the transaction (e.G., Smartphone, Laptop).\n",
        "17.   Is_Fraud: A binary indicator (1 or zero) indicating whether or not the transaction is fraudulent or now not.\n",
        "18.   Transaction_Currency: The currency used for the transaction (e.G., USD, EUR).\n",
        "19.   Transaction_Description: A brief description of the transaction (e.G., buy, switch).\n",
        "\n",
        "\n",
        "\n",
        "\n",
        "\n"
      ]
    },
    {
      "cell_type": "code",
      "execution_count": null,
      "metadata": {
        "id": "7MI3K5GjkYId"
      },
      "outputs": [],
      "source": [
        "!kaggle datasets download -d orangelmendez/bank-fraud"
      ]
    },
    {
      "cell_type": "code",
      "execution_count": null,
      "metadata": {
        "id": "8yekIp_Onwn8"
      },
      "outputs": [],
      "source": [
        "import pandas as pd\n",
        "import numpy as np\n",
        "from datetime import datetime\n",
        "import matplotlib.pyplot as plt\n",
        "%matplotlib inline\n",
        "import seaborn as sns\n",
        "\n",
        "from sklearn.preprocessing import OneHotEncoder, StandardScaler\n",
        "from sklearn.model_selection import train_test_split\n",
        "from sklearn.linear_model import LogisticRegression\n",
        "from xgboost import XGBClassifier\n",
        "from sklearn.compose import ColumnTransformer\n",
        "from sklearn.pipeline import Pipeline\n",
        "from statsmodels.tsa.arima.model import ARIMA\n",
        "from sklearn.metrics import classification_report, roc_auc_score, classification_report, accuracy_score, confusion_matrix\n",
        "from sklearn.ensemble import RandomForestClassifier\n",
        "from sklearn.pipeline import Pipeline\n",
        "from imblearn.over_sampling import SMOTE\n",
        "from imblearn.pipeline import Pipeline as ImbPipeline"
      ]
    },
    {
      "cell_type": "code",
      "execution_count": null,
      "metadata": {
        "id": "0qsucK1ekotW"
      },
      "outputs": [],
      "source": [
        "!unzip bank-fraud.zip -d data"
      ]
    },
    {
      "cell_type": "code",
      "execution_count": null,
      "metadata": {
        "colab": {
          "base_uri": "https://localhost:8080/",
          "height": 469
        },
        "id": "BRV_efk6hOVg",
        "outputId": "9ac1f003-a61f-4439-f7c4-c931465c5a37"
      },
      "outputs": [
        {
          "output_type": "execute_result",
          "data": {
            "text/plain": [
              "   Gender  Age        State                Bank_Branch Account_Type  \\\n",
              "0    Male   60       Kerala  Thiruvananthapuram Branch      Savings   \n",
              "1  Female   51  Maharashtra              Nashik Branch     Business   \n",
              "2    Male   20        Bihar           Bhagalpur Branch      Savings   \n",
              "3  Female   57   Tamil Nadu             Chennai Branch     Business   \n",
              "4  Female   43       Punjab            Amritsar Branch      Savings   \n",
              "\n",
              "                         Transaction_ID Transaction_Date Transaction_Time  \\\n",
              "0  4fa3208f-9e23-42dc-b330-844829d0c12c       23-01-2025         16:04:07   \n",
              "1  c9de0c06-2c4c-40a9-97ed-3c7b8f97c79c       11-01-2025         17:14:53   \n",
              "2  e41c55f9-c016-4ff3-872b-cae72467c75c       25-01-2025         03:09:52   \n",
              "3  7f7ee11b-ff2c-45a3-802a-49bc47c02ecb       19-01-2025         12:27:02   \n",
              "4  f8e6ac6f-81a1-4985-bf12-f60967d852ef       30-01-2025         18:30:46   \n",
              "\n",
              "   Transaction_Amount                           Merchant_ID Transaction_Type  \\\n",
              "0            32415.45  214e03c5-5c34-40d1-a66c-f440aa2bbd02         Transfer   \n",
              "1            43622.60  f9e3f11f-28d3-4199-b0ca-f225a155ede6     Bill Payment   \n",
              "2            63062.56  97977d83-5486-4510-af1c-8dada3e1cfa0     Bill Payment   \n",
              "3            14000.72  f45cd6b3-5092-44d0-8afb-490894605184            Debit   \n",
              "4            18335.16  70dd77dd-3b00-4b2c-8ebc-cfb8af5f6741         Transfer   \n",
              "\n",
              "  Merchant_Category  Account_Balance Transaction_Device  \\\n",
              "0        Restaurant         74557.27    Voice Assistant   \n",
              "1        Restaurant         74622.66  POS Mobile Device   \n",
              "2         Groceries         66817.99                ATM   \n",
              "3     Entertainment         58177.08     POS Mobile App   \n",
              "4     Entertainment         16108.56       Virtual Card   \n",
              "\n",
              "         Transaction_Location Device_Type  Is_Fraud Transaction_Currency  \\\n",
              "0  Thiruvananthapuram, Kerala         POS         0                  INR   \n",
              "1         Nashik, Maharashtra     Desktop         0                  INR   \n",
              "2            Bhagalpur, Bihar     Desktop         0                  INR   \n",
              "3         Chennai, Tamil Nadu      Mobile         0                  INR   \n",
              "4            Amritsar, Punjab      Mobile         0                  INR   \n",
              "\n",
              "  Transaction_Description  \n",
              "0     Bitcoin transaction  \n",
              "1        Grocery delivery  \n",
              "2  Mutual fund investment  \n",
              "3           Food delivery  \n",
              "4          Debt repayment  "
            ],
            "text/html": [
              "\n",
              "  <div id=\"df-8f119e15-9cd2-4225-9871-e0fc08196f1c\" class=\"colab-df-container\">\n",
              "    <div>\n",
              "<style scoped>\n",
              "    .dataframe tbody tr th:only-of-type {\n",
              "        vertical-align: middle;\n",
              "    }\n",
              "\n",
              "    .dataframe tbody tr th {\n",
              "        vertical-align: top;\n",
              "    }\n",
              "\n",
              "    .dataframe thead th {\n",
              "        text-align: right;\n",
              "    }\n",
              "</style>\n",
              "<table border=\"1\" class=\"dataframe\">\n",
              "  <thead>\n",
              "    <tr style=\"text-align: right;\">\n",
              "      <th></th>\n",
              "      <th>Gender</th>\n",
              "      <th>Age</th>\n",
              "      <th>State</th>\n",
              "      <th>Bank_Branch</th>\n",
              "      <th>Account_Type</th>\n",
              "      <th>Transaction_ID</th>\n",
              "      <th>Transaction_Date</th>\n",
              "      <th>Transaction_Time</th>\n",
              "      <th>Transaction_Amount</th>\n",
              "      <th>Merchant_ID</th>\n",
              "      <th>Transaction_Type</th>\n",
              "      <th>Merchant_Category</th>\n",
              "      <th>Account_Balance</th>\n",
              "      <th>Transaction_Device</th>\n",
              "      <th>Transaction_Location</th>\n",
              "      <th>Device_Type</th>\n",
              "      <th>Is_Fraud</th>\n",
              "      <th>Transaction_Currency</th>\n",
              "      <th>Transaction_Description</th>\n",
              "    </tr>\n",
              "  </thead>\n",
              "  <tbody>\n",
              "    <tr>\n",
              "      <th>0</th>\n",
              "      <td>Male</td>\n",
              "      <td>60</td>\n",
              "      <td>Kerala</td>\n",
              "      <td>Thiruvananthapuram Branch</td>\n",
              "      <td>Savings</td>\n",
              "      <td>4fa3208f-9e23-42dc-b330-844829d0c12c</td>\n",
              "      <td>23-01-2025</td>\n",
              "      <td>16:04:07</td>\n",
              "      <td>32415.45</td>\n",
              "      <td>214e03c5-5c34-40d1-a66c-f440aa2bbd02</td>\n",
              "      <td>Transfer</td>\n",
              "      <td>Restaurant</td>\n",
              "      <td>74557.27</td>\n",
              "      <td>Voice Assistant</td>\n",
              "      <td>Thiruvananthapuram, Kerala</td>\n",
              "      <td>POS</td>\n",
              "      <td>0</td>\n",
              "      <td>INR</td>\n",
              "      <td>Bitcoin transaction</td>\n",
              "    </tr>\n",
              "    <tr>\n",
              "      <th>1</th>\n",
              "      <td>Female</td>\n",
              "      <td>51</td>\n",
              "      <td>Maharashtra</td>\n",
              "      <td>Nashik Branch</td>\n",
              "      <td>Business</td>\n",
              "      <td>c9de0c06-2c4c-40a9-97ed-3c7b8f97c79c</td>\n",
              "      <td>11-01-2025</td>\n",
              "      <td>17:14:53</td>\n",
              "      <td>43622.60</td>\n",
              "      <td>f9e3f11f-28d3-4199-b0ca-f225a155ede6</td>\n",
              "      <td>Bill Payment</td>\n",
              "      <td>Restaurant</td>\n",
              "      <td>74622.66</td>\n",
              "      <td>POS Mobile Device</td>\n",
              "      <td>Nashik, Maharashtra</td>\n",
              "      <td>Desktop</td>\n",
              "      <td>0</td>\n",
              "      <td>INR</td>\n",
              "      <td>Grocery delivery</td>\n",
              "    </tr>\n",
              "    <tr>\n",
              "      <th>2</th>\n",
              "      <td>Male</td>\n",
              "      <td>20</td>\n",
              "      <td>Bihar</td>\n",
              "      <td>Bhagalpur Branch</td>\n",
              "      <td>Savings</td>\n",
              "      <td>e41c55f9-c016-4ff3-872b-cae72467c75c</td>\n",
              "      <td>25-01-2025</td>\n",
              "      <td>03:09:52</td>\n",
              "      <td>63062.56</td>\n",
              "      <td>97977d83-5486-4510-af1c-8dada3e1cfa0</td>\n",
              "      <td>Bill Payment</td>\n",
              "      <td>Groceries</td>\n",
              "      <td>66817.99</td>\n",
              "      <td>ATM</td>\n",
              "      <td>Bhagalpur, Bihar</td>\n",
              "      <td>Desktop</td>\n",
              "      <td>0</td>\n",
              "      <td>INR</td>\n",
              "      <td>Mutual fund investment</td>\n",
              "    </tr>\n",
              "    <tr>\n",
              "      <th>3</th>\n",
              "      <td>Female</td>\n",
              "      <td>57</td>\n",
              "      <td>Tamil Nadu</td>\n",
              "      <td>Chennai Branch</td>\n",
              "      <td>Business</td>\n",
              "      <td>7f7ee11b-ff2c-45a3-802a-49bc47c02ecb</td>\n",
              "      <td>19-01-2025</td>\n",
              "      <td>12:27:02</td>\n",
              "      <td>14000.72</td>\n",
              "      <td>f45cd6b3-5092-44d0-8afb-490894605184</td>\n",
              "      <td>Debit</td>\n",
              "      <td>Entertainment</td>\n",
              "      <td>58177.08</td>\n",
              "      <td>POS Mobile App</td>\n",
              "      <td>Chennai, Tamil Nadu</td>\n",
              "      <td>Mobile</td>\n",
              "      <td>0</td>\n",
              "      <td>INR</td>\n",
              "      <td>Food delivery</td>\n",
              "    </tr>\n",
              "    <tr>\n",
              "      <th>4</th>\n",
              "      <td>Female</td>\n",
              "      <td>43</td>\n",
              "      <td>Punjab</td>\n",
              "      <td>Amritsar Branch</td>\n",
              "      <td>Savings</td>\n",
              "      <td>f8e6ac6f-81a1-4985-bf12-f60967d852ef</td>\n",
              "      <td>30-01-2025</td>\n",
              "      <td>18:30:46</td>\n",
              "      <td>18335.16</td>\n",
              "      <td>70dd77dd-3b00-4b2c-8ebc-cfb8af5f6741</td>\n",
              "      <td>Transfer</td>\n",
              "      <td>Entertainment</td>\n",
              "      <td>16108.56</td>\n",
              "      <td>Virtual Card</td>\n",
              "      <td>Amritsar, Punjab</td>\n",
              "      <td>Mobile</td>\n",
              "      <td>0</td>\n",
              "      <td>INR</td>\n",
              "      <td>Debt repayment</td>\n",
              "    </tr>\n",
              "  </tbody>\n",
              "</table>\n",
              "</div>\n",
              "    <div class=\"colab-df-buttons\">\n",
              "\n",
              "  <div class=\"colab-df-container\">\n",
              "    <button class=\"colab-df-convert\" onclick=\"convertToInteractive('df-8f119e15-9cd2-4225-9871-e0fc08196f1c')\"\n",
              "            title=\"Convert this dataframe to an interactive table.\"\n",
              "            style=\"display:none;\">\n",
              "\n",
              "  <svg xmlns=\"http://www.w3.org/2000/svg\" height=\"24px\" viewBox=\"0 -960 960 960\">\n",
              "    <path d=\"M120-120v-720h720v720H120Zm60-500h600v-160H180v160Zm220 220h160v-160H400v160Zm0 220h160v-160H400v160ZM180-400h160v-160H180v160Zm440 0h160v-160H620v160ZM180-180h160v-160H180v160Zm440 0h160v-160H620v160Z\"/>\n",
              "  </svg>\n",
              "    </button>\n",
              "\n",
              "  <style>\n",
              "    .colab-df-container {\n",
              "      display:flex;\n",
              "      gap: 12px;\n",
              "    }\n",
              "\n",
              "    .colab-df-convert {\n",
              "      background-color: #E8F0FE;\n",
              "      border: none;\n",
              "      border-radius: 50%;\n",
              "      cursor: pointer;\n",
              "      display: none;\n",
              "      fill: #1967D2;\n",
              "      height: 32px;\n",
              "      padding: 0 0 0 0;\n",
              "      width: 32px;\n",
              "    }\n",
              "\n",
              "    .colab-df-convert:hover {\n",
              "      background-color: #E2EBFA;\n",
              "      box-shadow: 0px 1px 2px rgba(60, 64, 67, 0.3), 0px 1px 3px 1px rgba(60, 64, 67, 0.15);\n",
              "      fill: #174EA6;\n",
              "    }\n",
              "\n",
              "    .colab-df-buttons div {\n",
              "      margin-bottom: 4px;\n",
              "    }\n",
              "\n",
              "    [theme=dark] .colab-df-convert {\n",
              "      background-color: #3B4455;\n",
              "      fill: #D2E3FC;\n",
              "    }\n",
              "\n",
              "    [theme=dark] .colab-df-convert:hover {\n",
              "      background-color: #434B5C;\n",
              "      box-shadow: 0px 1px 3px 1px rgba(0, 0, 0, 0.15);\n",
              "      filter: drop-shadow(0px 1px 2px rgba(0, 0, 0, 0.3));\n",
              "      fill: #FFFFFF;\n",
              "    }\n",
              "  </style>\n",
              "\n",
              "    <script>\n",
              "      const buttonEl =\n",
              "        document.querySelector('#df-8f119e15-9cd2-4225-9871-e0fc08196f1c button.colab-df-convert');\n",
              "      buttonEl.style.display =\n",
              "        google.colab.kernel.accessAllowed ? 'block' : 'none';\n",
              "\n",
              "      async function convertToInteractive(key) {\n",
              "        const element = document.querySelector('#df-8f119e15-9cd2-4225-9871-e0fc08196f1c');\n",
              "        const dataTable =\n",
              "          await google.colab.kernel.invokeFunction('convertToInteractive',\n",
              "                                                    [key], {});\n",
              "        if (!dataTable) return;\n",
              "\n",
              "        const docLinkHtml = 'Like what you see? Visit the ' +\n",
              "          '<a target=\"_blank\" href=https://colab.research.google.com/notebooks/data_table.ipynb>data table notebook</a>'\n",
              "          + ' to learn more about interactive tables.';\n",
              "        element.innerHTML = '';\n",
              "        dataTable['output_type'] = 'display_data';\n",
              "        await google.colab.output.renderOutput(dataTable, element);\n",
              "        const docLink = document.createElement('div');\n",
              "        docLink.innerHTML = docLinkHtml;\n",
              "        element.appendChild(docLink);\n",
              "      }\n",
              "    </script>\n",
              "  </div>\n",
              "\n",
              "\n",
              "<div id=\"df-e2cc7325-b006-4b5a-8704-4526cc1cd4a3\">\n",
              "  <button class=\"colab-df-quickchart\" onclick=\"quickchart('df-e2cc7325-b006-4b5a-8704-4526cc1cd4a3')\"\n",
              "            title=\"Suggest charts\"\n",
              "            style=\"display:none;\">\n",
              "\n",
              "<svg xmlns=\"http://www.w3.org/2000/svg\" height=\"24px\"viewBox=\"0 0 24 24\"\n",
              "     width=\"24px\">\n",
              "    <g>\n",
              "        <path d=\"M19 3H5c-1.1 0-2 .9-2 2v14c0 1.1.9 2 2 2h14c1.1 0 2-.9 2-2V5c0-1.1-.9-2-2-2zM9 17H7v-7h2v7zm4 0h-2V7h2v10zm4 0h-2v-4h2v4z\"/>\n",
              "    </g>\n",
              "</svg>\n",
              "  </button>\n",
              "\n",
              "<style>\n",
              "  .colab-df-quickchart {\n",
              "      --bg-color: #E8F0FE;\n",
              "      --fill-color: #1967D2;\n",
              "      --hover-bg-color: #E2EBFA;\n",
              "      --hover-fill-color: #174EA6;\n",
              "      --disabled-fill-color: #AAA;\n",
              "      --disabled-bg-color: #DDD;\n",
              "  }\n",
              "\n",
              "  [theme=dark] .colab-df-quickchart {\n",
              "      --bg-color: #3B4455;\n",
              "      --fill-color: #D2E3FC;\n",
              "      --hover-bg-color: #434B5C;\n",
              "      --hover-fill-color: #FFFFFF;\n",
              "      --disabled-bg-color: #3B4455;\n",
              "      --disabled-fill-color: #666;\n",
              "  }\n",
              "\n",
              "  .colab-df-quickchart {\n",
              "    background-color: var(--bg-color);\n",
              "    border: none;\n",
              "    border-radius: 50%;\n",
              "    cursor: pointer;\n",
              "    display: none;\n",
              "    fill: var(--fill-color);\n",
              "    height: 32px;\n",
              "    padding: 0;\n",
              "    width: 32px;\n",
              "  }\n",
              "\n",
              "  .colab-df-quickchart:hover {\n",
              "    background-color: var(--hover-bg-color);\n",
              "    box-shadow: 0 1px 2px rgba(60, 64, 67, 0.3), 0 1px 3px 1px rgba(60, 64, 67, 0.15);\n",
              "    fill: var(--button-hover-fill-color);\n",
              "  }\n",
              "\n",
              "  .colab-df-quickchart-complete:disabled,\n",
              "  .colab-df-quickchart-complete:disabled:hover {\n",
              "    background-color: var(--disabled-bg-color);\n",
              "    fill: var(--disabled-fill-color);\n",
              "    box-shadow: none;\n",
              "  }\n",
              "\n",
              "  .colab-df-spinner {\n",
              "    border: 2px solid var(--fill-color);\n",
              "    border-color: transparent;\n",
              "    border-bottom-color: var(--fill-color);\n",
              "    animation:\n",
              "      spin 1s steps(1) infinite;\n",
              "  }\n",
              "\n",
              "  @keyframes spin {\n",
              "    0% {\n",
              "      border-color: transparent;\n",
              "      border-bottom-color: var(--fill-color);\n",
              "      border-left-color: var(--fill-color);\n",
              "    }\n",
              "    20% {\n",
              "      border-color: transparent;\n",
              "      border-left-color: var(--fill-color);\n",
              "      border-top-color: var(--fill-color);\n",
              "    }\n",
              "    30% {\n",
              "      border-color: transparent;\n",
              "      border-left-color: var(--fill-color);\n",
              "      border-top-color: var(--fill-color);\n",
              "      border-right-color: var(--fill-color);\n",
              "    }\n",
              "    40% {\n",
              "      border-color: transparent;\n",
              "      border-right-color: var(--fill-color);\n",
              "      border-top-color: var(--fill-color);\n",
              "    }\n",
              "    60% {\n",
              "      border-color: transparent;\n",
              "      border-right-color: var(--fill-color);\n",
              "    }\n",
              "    80% {\n",
              "      border-color: transparent;\n",
              "      border-right-color: var(--fill-color);\n",
              "      border-bottom-color: var(--fill-color);\n",
              "    }\n",
              "    90% {\n",
              "      border-color: transparent;\n",
              "      border-bottom-color: var(--fill-color);\n",
              "    }\n",
              "  }\n",
              "</style>\n",
              "\n",
              "  <script>\n",
              "    async function quickchart(key) {\n",
              "      const quickchartButtonEl =\n",
              "        document.querySelector('#' + key + ' button');\n",
              "      quickchartButtonEl.disabled = true;  // To prevent multiple clicks.\n",
              "      quickchartButtonEl.classList.add('colab-df-spinner');\n",
              "      try {\n",
              "        const charts = await google.colab.kernel.invokeFunction(\n",
              "            'suggestCharts', [key], {});\n",
              "      } catch (error) {\n",
              "        console.error('Error during call to suggestCharts:', error);\n",
              "      }\n",
              "      quickchartButtonEl.classList.remove('colab-df-spinner');\n",
              "      quickchartButtonEl.classList.add('colab-df-quickchart-complete');\n",
              "    }\n",
              "    (() => {\n",
              "      let quickchartButtonEl =\n",
              "        document.querySelector('#df-e2cc7325-b006-4b5a-8704-4526cc1cd4a3 button');\n",
              "      quickchartButtonEl.style.display =\n",
              "        google.colab.kernel.accessAllowed ? 'block' : 'none';\n",
              "    })();\n",
              "  </script>\n",
              "</div>\n",
              "\n",
              "    </div>\n",
              "  </div>\n"
            ],
            "application/vnd.google.colaboratory.intrinsic+json": {
              "type": "dataframe",
              "variable_name": "bank_df"
            }
          },
          "metadata": {},
          "execution_count": 61
        }
      ],
      "source": [
        "bank_df = pd.read_csv('./data/new_bank_fraud_detection.csv', encoding='utf-8', index_col=0)\n",
        "bank_df.head()"
      ]
    },
    {
      "cell_type": "code",
      "execution_count": null,
      "metadata": {
        "colab": {
          "base_uri": "https://localhost:8080/",
          "height": 301
        },
        "id": "4G74CNDQLJW4",
        "outputId": "f1c32b46-db23-47ef-da0d-5a747d084f78"
      },
      "outputs": [
        {
          "output_type": "execute_result",
          "data": {
            "text/plain": [
              "                 Age  Transaction_Amount  Account_Balance       Is_Fraud\n",
              "count  200000.000000       200000.000000    200000.000000  200000.000000\n",
              "mean       44.015110        49538.015554     52437.988784       0.050440\n",
              "std        15.288774        28551.874004     27399.507128       0.218852\n",
              "min        18.000000           10.290000      5000.820000       0.000000\n",
              "25%        31.000000        24851.345000     28742.395000       0.000000\n",
              "50%        44.000000        49502.440000     52372.555000       0.000000\n",
              "75%        57.000000        74314.625000     76147.670000       0.000000\n",
              "max        70.000000        98999.980000     99999.950000       1.000000"
            ],
            "text/html": [
              "\n",
              "  <div id=\"df-8818530f-ea2b-4f68-88a3-18d9ebe984ed\" class=\"colab-df-container\">\n",
              "    <div>\n",
              "<style scoped>\n",
              "    .dataframe tbody tr th:only-of-type {\n",
              "        vertical-align: middle;\n",
              "    }\n",
              "\n",
              "    .dataframe tbody tr th {\n",
              "        vertical-align: top;\n",
              "    }\n",
              "\n",
              "    .dataframe thead th {\n",
              "        text-align: right;\n",
              "    }\n",
              "</style>\n",
              "<table border=\"1\" class=\"dataframe\">\n",
              "  <thead>\n",
              "    <tr style=\"text-align: right;\">\n",
              "      <th></th>\n",
              "      <th>Age</th>\n",
              "      <th>Transaction_Amount</th>\n",
              "      <th>Account_Balance</th>\n",
              "      <th>Is_Fraud</th>\n",
              "    </tr>\n",
              "  </thead>\n",
              "  <tbody>\n",
              "    <tr>\n",
              "      <th>count</th>\n",
              "      <td>200000.000000</td>\n",
              "      <td>200000.000000</td>\n",
              "      <td>200000.000000</td>\n",
              "      <td>200000.000000</td>\n",
              "    </tr>\n",
              "    <tr>\n",
              "      <th>mean</th>\n",
              "      <td>44.015110</td>\n",
              "      <td>49538.015554</td>\n",
              "      <td>52437.988784</td>\n",
              "      <td>0.050440</td>\n",
              "    </tr>\n",
              "    <tr>\n",
              "      <th>std</th>\n",
              "      <td>15.288774</td>\n",
              "      <td>28551.874004</td>\n",
              "      <td>27399.507128</td>\n",
              "      <td>0.218852</td>\n",
              "    </tr>\n",
              "    <tr>\n",
              "      <th>min</th>\n",
              "      <td>18.000000</td>\n",
              "      <td>10.290000</td>\n",
              "      <td>5000.820000</td>\n",
              "      <td>0.000000</td>\n",
              "    </tr>\n",
              "    <tr>\n",
              "      <th>25%</th>\n",
              "      <td>31.000000</td>\n",
              "      <td>24851.345000</td>\n",
              "      <td>28742.395000</td>\n",
              "      <td>0.000000</td>\n",
              "    </tr>\n",
              "    <tr>\n",
              "      <th>50%</th>\n",
              "      <td>44.000000</td>\n",
              "      <td>49502.440000</td>\n",
              "      <td>52372.555000</td>\n",
              "      <td>0.000000</td>\n",
              "    </tr>\n",
              "    <tr>\n",
              "      <th>75%</th>\n",
              "      <td>57.000000</td>\n",
              "      <td>74314.625000</td>\n",
              "      <td>76147.670000</td>\n",
              "      <td>0.000000</td>\n",
              "    </tr>\n",
              "    <tr>\n",
              "      <th>max</th>\n",
              "      <td>70.000000</td>\n",
              "      <td>98999.980000</td>\n",
              "      <td>99999.950000</td>\n",
              "      <td>1.000000</td>\n",
              "    </tr>\n",
              "  </tbody>\n",
              "</table>\n",
              "</div>\n",
              "    <div class=\"colab-df-buttons\">\n",
              "\n",
              "  <div class=\"colab-df-container\">\n",
              "    <button class=\"colab-df-convert\" onclick=\"convertToInteractive('df-8818530f-ea2b-4f68-88a3-18d9ebe984ed')\"\n",
              "            title=\"Convert this dataframe to an interactive table.\"\n",
              "            style=\"display:none;\">\n",
              "\n",
              "  <svg xmlns=\"http://www.w3.org/2000/svg\" height=\"24px\" viewBox=\"0 -960 960 960\">\n",
              "    <path d=\"M120-120v-720h720v720H120Zm60-500h600v-160H180v160Zm220 220h160v-160H400v160Zm0 220h160v-160H400v160ZM180-400h160v-160H180v160Zm440 0h160v-160H620v160ZM180-180h160v-160H180v160Zm440 0h160v-160H620v160Z\"/>\n",
              "  </svg>\n",
              "    </button>\n",
              "\n",
              "  <style>\n",
              "    .colab-df-container {\n",
              "      display:flex;\n",
              "      gap: 12px;\n",
              "    }\n",
              "\n",
              "    .colab-df-convert {\n",
              "      background-color: #E8F0FE;\n",
              "      border: none;\n",
              "      border-radius: 50%;\n",
              "      cursor: pointer;\n",
              "      display: none;\n",
              "      fill: #1967D2;\n",
              "      height: 32px;\n",
              "      padding: 0 0 0 0;\n",
              "      width: 32px;\n",
              "    }\n",
              "\n",
              "    .colab-df-convert:hover {\n",
              "      background-color: #E2EBFA;\n",
              "      box-shadow: 0px 1px 2px rgba(60, 64, 67, 0.3), 0px 1px 3px 1px rgba(60, 64, 67, 0.15);\n",
              "      fill: #174EA6;\n",
              "    }\n",
              "\n",
              "    .colab-df-buttons div {\n",
              "      margin-bottom: 4px;\n",
              "    }\n",
              "\n",
              "    [theme=dark] .colab-df-convert {\n",
              "      background-color: #3B4455;\n",
              "      fill: #D2E3FC;\n",
              "    }\n",
              "\n",
              "    [theme=dark] .colab-df-convert:hover {\n",
              "      background-color: #434B5C;\n",
              "      box-shadow: 0px 1px 3px 1px rgba(0, 0, 0, 0.15);\n",
              "      filter: drop-shadow(0px 1px 2px rgba(0, 0, 0, 0.3));\n",
              "      fill: #FFFFFF;\n",
              "    }\n",
              "  </style>\n",
              "\n",
              "    <script>\n",
              "      const buttonEl =\n",
              "        document.querySelector('#df-8818530f-ea2b-4f68-88a3-18d9ebe984ed button.colab-df-convert');\n",
              "      buttonEl.style.display =\n",
              "        google.colab.kernel.accessAllowed ? 'block' : 'none';\n",
              "\n",
              "      async function convertToInteractive(key) {\n",
              "        const element = document.querySelector('#df-8818530f-ea2b-4f68-88a3-18d9ebe984ed');\n",
              "        const dataTable =\n",
              "          await google.colab.kernel.invokeFunction('convertToInteractive',\n",
              "                                                    [key], {});\n",
              "        if (!dataTable) return;\n",
              "\n",
              "        const docLinkHtml = 'Like what you see? Visit the ' +\n",
              "          '<a target=\"_blank\" href=https://colab.research.google.com/notebooks/data_table.ipynb>data table notebook</a>'\n",
              "          + ' to learn more about interactive tables.';\n",
              "        element.innerHTML = '';\n",
              "        dataTable['output_type'] = 'display_data';\n",
              "        await google.colab.output.renderOutput(dataTable, element);\n",
              "        const docLink = document.createElement('div');\n",
              "        docLink.innerHTML = docLinkHtml;\n",
              "        element.appendChild(docLink);\n",
              "      }\n",
              "    </script>\n",
              "  </div>\n",
              "\n",
              "\n",
              "<div id=\"df-d30229ff-4535-477e-96e3-240d94baf496\">\n",
              "  <button class=\"colab-df-quickchart\" onclick=\"quickchart('df-d30229ff-4535-477e-96e3-240d94baf496')\"\n",
              "            title=\"Suggest charts\"\n",
              "            style=\"display:none;\">\n",
              "\n",
              "<svg xmlns=\"http://www.w3.org/2000/svg\" height=\"24px\"viewBox=\"0 0 24 24\"\n",
              "     width=\"24px\">\n",
              "    <g>\n",
              "        <path d=\"M19 3H5c-1.1 0-2 .9-2 2v14c0 1.1.9 2 2 2h14c1.1 0 2-.9 2-2V5c0-1.1-.9-2-2-2zM9 17H7v-7h2v7zm4 0h-2V7h2v10zm4 0h-2v-4h2v4z\"/>\n",
              "    </g>\n",
              "</svg>\n",
              "  </button>\n",
              "\n",
              "<style>\n",
              "  .colab-df-quickchart {\n",
              "      --bg-color: #E8F0FE;\n",
              "      --fill-color: #1967D2;\n",
              "      --hover-bg-color: #E2EBFA;\n",
              "      --hover-fill-color: #174EA6;\n",
              "      --disabled-fill-color: #AAA;\n",
              "      --disabled-bg-color: #DDD;\n",
              "  }\n",
              "\n",
              "  [theme=dark] .colab-df-quickchart {\n",
              "      --bg-color: #3B4455;\n",
              "      --fill-color: #D2E3FC;\n",
              "      --hover-bg-color: #434B5C;\n",
              "      --hover-fill-color: #FFFFFF;\n",
              "      --disabled-bg-color: #3B4455;\n",
              "      --disabled-fill-color: #666;\n",
              "  }\n",
              "\n",
              "  .colab-df-quickchart {\n",
              "    background-color: var(--bg-color);\n",
              "    border: none;\n",
              "    border-radius: 50%;\n",
              "    cursor: pointer;\n",
              "    display: none;\n",
              "    fill: var(--fill-color);\n",
              "    height: 32px;\n",
              "    padding: 0;\n",
              "    width: 32px;\n",
              "  }\n",
              "\n",
              "  .colab-df-quickchart:hover {\n",
              "    background-color: var(--hover-bg-color);\n",
              "    box-shadow: 0 1px 2px rgba(60, 64, 67, 0.3), 0 1px 3px 1px rgba(60, 64, 67, 0.15);\n",
              "    fill: var(--button-hover-fill-color);\n",
              "  }\n",
              "\n",
              "  .colab-df-quickchart-complete:disabled,\n",
              "  .colab-df-quickchart-complete:disabled:hover {\n",
              "    background-color: var(--disabled-bg-color);\n",
              "    fill: var(--disabled-fill-color);\n",
              "    box-shadow: none;\n",
              "  }\n",
              "\n",
              "  .colab-df-spinner {\n",
              "    border: 2px solid var(--fill-color);\n",
              "    border-color: transparent;\n",
              "    border-bottom-color: var(--fill-color);\n",
              "    animation:\n",
              "      spin 1s steps(1) infinite;\n",
              "  }\n",
              "\n",
              "  @keyframes spin {\n",
              "    0% {\n",
              "      border-color: transparent;\n",
              "      border-bottom-color: var(--fill-color);\n",
              "      border-left-color: var(--fill-color);\n",
              "    }\n",
              "    20% {\n",
              "      border-color: transparent;\n",
              "      border-left-color: var(--fill-color);\n",
              "      border-top-color: var(--fill-color);\n",
              "    }\n",
              "    30% {\n",
              "      border-color: transparent;\n",
              "      border-left-color: var(--fill-color);\n",
              "      border-top-color: var(--fill-color);\n",
              "      border-right-color: var(--fill-color);\n",
              "    }\n",
              "    40% {\n",
              "      border-color: transparent;\n",
              "      border-right-color: var(--fill-color);\n",
              "      border-top-color: var(--fill-color);\n",
              "    }\n",
              "    60% {\n",
              "      border-color: transparent;\n",
              "      border-right-color: var(--fill-color);\n",
              "    }\n",
              "    80% {\n",
              "      border-color: transparent;\n",
              "      border-right-color: var(--fill-color);\n",
              "      border-bottom-color: var(--fill-color);\n",
              "    }\n",
              "    90% {\n",
              "      border-color: transparent;\n",
              "      border-bottom-color: var(--fill-color);\n",
              "    }\n",
              "  }\n",
              "</style>\n",
              "\n",
              "  <script>\n",
              "    async function quickchart(key) {\n",
              "      const quickchartButtonEl =\n",
              "        document.querySelector('#' + key + ' button');\n",
              "      quickchartButtonEl.disabled = true;  // To prevent multiple clicks.\n",
              "      quickchartButtonEl.classList.add('colab-df-spinner');\n",
              "      try {\n",
              "        const charts = await google.colab.kernel.invokeFunction(\n",
              "            'suggestCharts', [key], {});\n",
              "      } catch (error) {\n",
              "        console.error('Error during call to suggestCharts:', error);\n",
              "      }\n",
              "      quickchartButtonEl.classList.remove('colab-df-spinner');\n",
              "      quickchartButtonEl.classList.add('colab-df-quickchart-complete');\n",
              "    }\n",
              "    (() => {\n",
              "      let quickchartButtonEl =\n",
              "        document.querySelector('#df-d30229ff-4535-477e-96e3-240d94baf496 button');\n",
              "      quickchartButtonEl.style.display =\n",
              "        google.colab.kernel.accessAllowed ? 'block' : 'none';\n",
              "    })();\n",
              "  </script>\n",
              "</div>\n",
              "\n",
              "    </div>\n",
              "  </div>\n"
            ],
            "application/vnd.google.colaboratory.intrinsic+json": {
              "type": "dataframe",
              "summary": "{\n  \"name\": \"bank_df\",\n  \"rows\": 8,\n  \"fields\": [\n    {\n      \"column\": \"Age\",\n      \"properties\": {\n        \"dtype\": \"number\",\n        \"std\": 70696.57356369412,\n        \"min\": 15.28877432696959,\n        \"max\": 200000.0,\n        \"num_unique_values\": 8,\n        \"samples\": [\n          44.01511,\n          44.0,\n          200000.0\n        ],\n        \"semantic_type\": \"\",\n        \"description\": \"\"\n      }\n    },\n    {\n      \"column\": \"Transaction_Amount\",\n      \"properties\": {\n        \"dtype\": \"number\",\n        \"std\": 62228.71575467147,\n        \"min\": 10.29,\n        \"max\": 200000.0,\n        \"num_unique_values\": 8,\n        \"samples\": [\n          49538.0155542,\n          49502.44,\n          200000.0\n        ],\n        \"semantic_type\": \"\",\n        \"description\": \"\"\n      }\n    },\n    {\n      \"column\": \"Account_Balance\",\n      \"properties\": {\n        \"dtype\": \"number\",\n        \"std\": 61130.74977914429,\n        \"min\": 5000.82,\n        \"max\": 200000.0,\n        \"num_unique_values\": 8,\n        \"samples\": [\n          52437.98878355,\n          52372.555,\n          200000.0\n        ],\n        \"semantic_type\": \"\",\n        \"description\": \"\"\n      }\n    },\n    {\n      \"column\": \"Is_Fraud\",\n      \"properties\": {\n        \"dtype\": \"number\",\n        \"std\": 70710.61401057373,\n        \"min\": 0.0,\n        \"max\": 200000.0,\n        \"num_unique_values\": 5,\n        \"samples\": [\n          0.05044,\n          1.0,\n          0.21885165267898435\n        ],\n        \"semantic_type\": \"\",\n        \"description\": \"\"\n      }\n    }\n  ]\n}"
            }
          },
          "metadata": {},
          "execution_count": 62
        }
      ],
      "source": [
        "bank_df.describe()"
      ]
    },
    {
      "cell_type": "code",
      "execution_count": null,
      "metadata": {
        "colab": {
          "base_uri": "https://localhost:8080/"
        },
        "id": "xpEIQFrKMKRf",
        "outputId": "83a59e7f-5eb2-4b0c-a86b-1b6388efb4ca"
      },
      "outputs": [
        {
          "output_type": "execute_result",
          "data": {
            "text/plain": [
              "Index(['Gender', 'Age', 'State', 'Bank_Branch', 'Account_Type',\n",
              "       'Transaction_ID', 'Transaction_Date', 'Transaction_Time',\n",
              "       'Transaction_Amount', 'Merchant_ID', 'Transaction_Type',\n",
              "       'Merchant_Category', 'Account_Balance', 'Transaction_Device',\n",
              "       'Transaction_Location', 'Device_Type', 'Is_Fraud',\n",
              "       'Transaction_Currency', 'Transaction_Description'],\n",
              "      dtype='object')"
            ]
          },
          "metadata": {},
          "execution_count": 63
        }
      ],
      "source": [
        "bank_df.columns"
      ]
    },
    {
      "cell_type": "code",
      "execution_count": null,
      "metadata": {
        "colab": {
          "base_uri": "https://localhost:8080/",
          "height": 680
        },
        "id": "a-HyNNAgProS",
        "outputId": "e11adfd6-03ed-483c-e0c2-b4597bf73d8b"
      },
      "outputs": [
        {
          "output_type": "execute_result",
          "data": {
            "text/plain": [
              "Gender                     0\n",
              "Age                        0\n",
              "State                      0\n",
              "Bank_Branch                0\n",
              "Account_Type               0\n",
              "Transaction_ID             0\n",
              "Transaction_Date           0\n",
              "Transaction_Time           0\n",
              "Transaction_Amount         0\n",
              "Merchant_ID                0\n",
              "Transaction_Type           0\n",
              "Merchant_Category          0\n",
              "Account_Balance            0\n",
              "Transaction_Device         0\n",
              "Transaction_Location       0\n",
              "Device_Type                0\n",
              "Is_Fraud                   0\n",
              "Transaction_Currency       0\n",
              "Transaction_Description    0\n",
              "dtype: int64"
            ],
            "text/html": [
              "<div>\n",
              "<style scoped>\n",
              "    .dataframe tbody tr th:only-of-type {\n",
              "        vertical-align: middle;\n",
              "    }\n",
              "\n",
              "    .dataframe tbody tr th {\n",
              "        vertical-align: top;\n",
              "    }\n",
              "\n",
              "    .dataframe thead th {\n",
              "        text-align: right;\n",
              "    }\n",
              "</style>\n",
              "<table border=\"1\" class=\"dataframe\">\n",
              "  <thead>\n",
              "    <tr style=\"text-align: right;\">\n",
              "      <th></th>\n",
              "      <th>0</th>\n",
              "    </tr>\n",
              "  </thead>\n",
              "  <tbody>\n",
              "    <tr>\n",
              "      <th>Gender</th>\n",
              "      <td>0</td>\n",
              "    </tr>\n",
              "    <tr>\n",
              "      <th>Age</th>\n",
              "      <td>0</td>\n",
              "    </tr>\n",
              "    <tr>\n",
              "      <th>State</th>\n",
              "      <td>0</td>\n",
              "    </tr>\n",
              "    <tr>\n",
              "      <th>Bank_Branch</th>\n",
              "      <td>0</td>\n",
              "    </tr>\n",
              "    <tr>\n",
              "      <th>Account_Type</th>\n",
              "      <td>0</td>\n",
              "    </tr>\n",
              "    <tr>\n",
              "      <th>Transaction_ID</th>\n",
              "      <td>0</td>\n",
              "    </tr>\n",
              "    <tr>\n",
              "      <th>Transaction_Date</th>\n",
              "      <td>0</td>\n",
              "    </tr>\n",
              "    <tr>\n",
              "      <th>Transaction_Time</th>\n",
              "      <td>0</td>\n",
              "    </tr>\n",
              "    <tr>\n",
              "      <th>Transaction_Amount</th>\n",
              "      <td>0</td>\n",
              "    </tr>\n",
              "    <tr>\n",
              "      <th>Merchant_ID</th>\n",
              "      <td>0</td>\n",
              "    </tr>\n",
              "    <tr>\n",
              "      <th>Transaction_Type</th>\n",
              "      <td>0</td>\n",
              "    </tr>\n",
              "    <tr>\n",
              "      <th>Merchant_Category</th>\n",
              "      <td>0</td>\n",
              "    </tr>\n",
              "    <tr>\n",
              "      <th>Account_Balance</th>\n",
              "      <td>0</td>\n",
              "    </tr>\n",
              "    <tr>\n",
              "      <th>Transaction_Device</th>\n",
              "      <td>0</td>\n",
              "    </tr>\n",
              "    <tr>\n",
              "      <th>Transaction_Location</th>\n",
              "      <td>0</td>\n",
              "    </tr>\n",
              "    <tr>\n",
              "      <th>Device_Type</th>\n",
              "      <td>0</td>\n",
              "    </tr>\n",
              "    <tr>\n",
              "      <th>Is_Fraud</th>\n",
              "      <td>0</td>\n",
              "    </tr>\n",
              "    <tr>\n",
              "      <th>Transaction_Currency</th>\n",
              "      <td>0</td>\n",
              "    </tr>\n",
              "    <tr>\n",
              "      <th>Transaction_Description</th>\n",
              "      <td>0</td>\n",
              "    </tr>\n",
              "  </tbody>\n",
              "</table>\n",
              "</div><br><label><b>dtype:</b> int64</label>"
            ]
          },
          "metadata": {},
          "execution_count": 64
        }
      ],
      "source": [
        "bank_df.isnull().sum()"
      ]
    },
    {
      "cell_type": "code",
      "execution_count": null,
      "metadata": {
        "colab": {
          "base_uri": "https://localhost:8080/",
          "height": 680
        },
        "id": "DE4GdJFzXlPq",
        "outputId": "4c430683-7e3f-4fc7-cd40-4f4e3abe963a"
      },
      "outputs": [
        {
          "output_type": "execute_result",
          "data": {
            "text/plain": [
              "Gender                      object\n",
              "Age                          int64\n",
              "State                       object\n",
              "Bank_Branch                 object\n",
              "Account_Type                object\n",
              "Transaction_ID              object\n",
              "Transaction_Date            object\n",
              "Transaction_Time            object\n",
              "Transaction_Amount         float64\n",
              "Merchant_ID                 object\n",
              "Transaction_Type            object\n",
              "Merchant_Category           object\n",
              "Account_Balance            float64\n",
              "Transaction_Device          object\n",
              "Transaction_Location        object\n",
              "Device_Type                 object\n",
              "Is_Fraud                     int64\n",
              "Transaction_Currency        object\n",
              "Transaction_Description     object\n",
              "dtype: object"
            ],
            "text/html": [
              "<div>\n",
              "<style scoped>\n",
              "    .dataframe tbody tr th:only-of-type {\n",
              "        vertical-align: middle;\n",
              "    }\n",
              "\n",
              "    .dataframe tbody tr th {\n",
              "        vertical-align: top;\n",
              "    }\n",
              "\n",
              "    .dataframe thead th {\n",
              "        text-align: right;\n",
              "    }\n",
              "</style>\n",
              "<table border=\"1\" class=\"dataframe\">\n",
              "  <thead>\n",
              "    <tr style=\"text-align: right;\">\n",
              "      <th></th>\n",
              "      <th>0</th>\n",
              "    </tr>\n",
              "  </thead>\n",
              "  <tbody>\n",
              "    <tr>\n",
              "      <th>Gender</th>\n",
              "      <td>object</td>\n",
              "    </tr>\n",
              "    <tr>\n",
              "      <th>Age</th>\n",
              "      <td>int64</td>\n",
              "    </tr>\n",
              "    <tr>\n",
              "      <th>State</th>\n",
              "      <td>object</td>\n",
              "    </tr>\n",
              "    <tr>\n",
              "      <th>Bank_Branch</th>\n",
              "      <td>object</td>\n",
              "    </tr>\n",
              "    <tr>\n",
              "      <th>Account_Type</th>\n",
              "      <td>object</td>\n",
              "    </tr>\n",
              "    <tr>\n",
              "      <th>Transaction_ID</th>\n",
              "      <td>object</td>\n",
              "    </tr>\n",
              "    <tr>\n",
              "      <th>Transaction_Date</th>\n",
              "      <td>object</td>\n",
              "    </tr>\n",
              "    <tr>\n",
              "      <th>Transaction_Time</th>\n",
              "      <td>object</td>\n",
              "    </tr>\n",
              "    <tr>\n",
              "      <th>Transaction_Amount</th>\n",
              "      <td>float64</td>\n",
              "    </tr>\n",
              "    <tr>\n",
              "      <th>Merchant_ID</th>\n",
              "      <td>object</td>\n",
              "    </tr>\n",
              "    <tr>\n",
              "      <th>Transaction_Type</th>\n",
              "      <td>object</td>\n",
              "    </tr>\n",
              "    <tr>\n",
              "      <th>Merchant_Category</th>\n",
              "      <td>object</td>\n",
              "    </tr>\n",
              "    <tr>\n",
              "      <th>Account_Balance</th>\n",
              "      <td>float64</td>\n",
              "    </tr>\n",
              "    <tr>\n",
              "      <th>Transaction_Device</th>\n",
              "      <td>object</td>\n",
              "    </tr>\n",
              "    <tr>\n",
              "      <th>Transaction_Location</th>\n",
              "      <td>object</td>\n",
              "    </tr>\n",
              "    <tr>\n",
              "      <th>Device_Type</th>\n",
              "      <td>object</td>\n",
              "    </tr>\n",
              "    <tr>\n",
              "      <th>Is_Fraud</th>\n",
              "      <td>int64</td>\n",
              "    </tr>\n",
              "    <tr>\n",
              "      <th>Transaction_Currency</th>\n",
              "      <td>object</td>\n",
              "    </tr>\n",
              "    <tr>\n",
              "      <th>Transaction_Description</th>\n",
              "      <td>object</td>\n",
              "    </tr>\n",
              "  </tbody>\n",
              "</table>\n",
              "</div><br><label><b>dtype:</b> object</label>"
            ]
          },
          "metadata": {},
          "execution_count": 65
        }
      ],
      "source": [
        "bank_df.dtypes"
      ]
    },
    {
      "cell_type": "markdown",
      "metadata": {
        "id": "72wn64Cs2ZV6"
      },
      "source": [
        "Let's combine the \"Transaction_Date\" and \"Transaction_Time\" columns together, and convert it into a datetime dtype."
      ]
    },
    {
      "cell_type": "code",
      "execution_count": null,
      "metadata": {
        "colab": {
          "base_uri": "https://localhost:8080/",
          "height": 746
        },
        "id": "XBhY-Giv1vnB",
        "outputId": "71e2c11f-8f24-46c4-d657-d6ae7fdf7a0f"
      },
      "outputs": [
        {
          "output_type": "stream",
          "name": "stderr",
          "text": [
            "<ipython-input-66-02d4b654fe3d>:1: UserWarning: Parsing dates in %d-%m-%Y %H:%M:%S format when dayfirst=False (the default) was specified. Pass `dayfirst=True` or specify a format to silence this warning.\n",
            "  bank_df['Transaction_DateTime'] = pd.to_datetime(bank_df['Transaction_Date']+\" \"+bank_df['Transaction_Time'])\n"
          ]
        },
        {
          "output_type": "execute_result",
          "data": {
            "text/plain": [
              "Gender                             object\n",
              "Age                                 int64\n",
              "State                              object\n",
              "Bank_Branch                        object\n",
              "Account_Type                       object\n",
              "Transaction_ID                     object\n",
              "Transaction_Date                   object\n",
              "Transaction_Time                   object\n",
              "Transaction_Amount                float64\n",
              "Merchant_ID                        object\n",
              "Transaction_Type                   object\n",
              "Merchant_Category                  object\n",
              "Account_Balance                   float64\n",
              "Transaction_Device                 object\n",
              "Transaction_Location               object\n",
              "Device_Type                        object\n",
              "Is_Fraud                            int64\n",
              "Transaction_Currency               object\n",
              "Transaction_Description            object\n",
              "Transaction_DateTime       datetime64[ns]\n",
              "dtype: object"
            ],
            "text/html": [
              "<div>\n",
              "<style scoped>\n",
              "    .dataframe tbody tr th:only-of-type {\n",
              "        vertical-align: middle;\n",
              "    }\n",
              "\n",
              "    .dataframe tbody tr th {\n",
              "        vertical-align: top;\n",
              "    }\n",
              "\n",
              "    .dataframe thead th {\n",
              "        text-align: right;\n",
              "    }\n",
              "</style>\n",
              "<table border=\"1\" class=\"dataframe\">\n",
              "  <thead>\n",
              "    <tr style=\"text-align: right;\">\n",
              "      <th></th>\n",
              "      <th>0</th>\n",
              "    </tr>\n",
              "  </thead>\n",
              "  <tbody>\n",
              "    <tr>\n",
              "      <th>Gender</th>\n",
              "      <td>object</td>\n",
              "    </tr>\n",
              "    <tr>\n",
              "      <th>Age</th>\n",
              "      <td>int64</td>\n",
              "    </tr>\n",
              "    <tr>\n",
              "      <th>State</th>\n",
              "      <td>object</td>\n",
              "    </tr>\n",
              "    <tr>\n",
              "      <th>Bank_Branch</th>\n",
              "      <td>object</td>\n",
              "    </tr>\n",
              "    <tr>\n",
              "      <th>Account_Type</th>\n",
              "      <td>object</td>\n",
              "    </tr>\n",
              "    <tr>\n",
              "      <th>Transaction_ID</th>\n",
              "      <td>object</td>\n",
              "    </tr>\n",
              "    <tr>\n",
              "      <th>Transaction_Date</th>\n",
              "      <td>object</td>\n",
              "    </tr>\n",
              "    <tr>\n",
              "      <th>Transaction_Time</th>\n",
              "      <td>object</td>\n",
              "    </tr>\n",
              "    <tr>\n",
              "      <th>Transaction_Amount</th>\n",
              "      <td>float64</td>\n",
              "    </tr>\n",
              "    <tr>\n",
              "      <th>Merchant_ID</th>\n",
              "      <td>object</td>\n",
              "    </tr>\n",
              "    <tr>\n",
              "      <th>Transaction_Type</th>\n",
              "      <td>object</td>\n",
              "    </tr>\n",
              "    <tr>\n",
              "      <th>Merchant_Category</th>\n",
              "      <td>object</td>\n",
              "    </tr>\n",
              "    <tr>\n",
              "      <th>Account_Balance</th>\n",
              "      <td>float64</td>\n",
              "    </tr>\n",
              "    <tr>\n",
              "      <th>Transaction_Device</th>\n",
              "      <td>object</td>\n",
              "    </tr>\n",
              "    <tr>\n",
              "      <th>Transaction_Location</th>\n",
              "      <td>object</td>\n",
              "    </tr>\n",
              "    <tr>\n",
              "      <th>Device_Type</th>\n",
              "      <td>object</td>\n",
              "    </tr>\n",
              "    <tr>\n",
              "      <th>Is_Fraud</th>\n",
              "      <td>int64</td>\n",
              "    </tr>\n",
              "    <tr>\n",
              "      <th>Transaction_Currency</th>\n",
              "      <td>object</td>\n",
              "    </tr>\n",
              "    <tr>\n",
              "      <th>Transaction_Description</th>\n",
              "      <td>object</td>\n",
              "    </tr>\n",
              "    <tr>\n",
              "      <th>Transaction_DateTime</th>\n",
              "      <td>datetime64[ns]</td>\n",
              "    </tr>\n",
              "  </tbody>\n",
              "</table>\n",
              "</div><br><label><b>dtype:</b> object</label>"
            ]
          },
          "metadata": {},
          "execution_count": 66
        }
      ],
      "source": [
        "bank_df['Transaction_DateTime'] = pd.to_datetime(bank_df['Transaction_Date']+\" \"+bank_df['Transaction_Time'])\n",
        "bank_df[['Transaction_Date','Transaction_Time']]\n",
        "\n",
        "bank_df.dtypes"
      ]
    },
    {
      "cell_type": "code",
      "execution_count": null,
      "metadata": {
        "colab": {
          "base_uri": "https://localhost:8080/",
          "height": 683
        },
        "id": "NcCFHO7E0bGD",
        "outputId": "792b43dc-5497-4b60-9870-aa3b64fb4a80"
      },
      "outputs": [
        {
          "output_type": "stream",
          "name": "stderr",
          "text": [
            "<ipython-input-67-dc03372e01e5>:2: UserWarning: Parsing dates in %d-%m-%Y format when dayfirst=False (the default) was specified. Pass `dayfirst=True` or specify a format to silence this warning.\n",
            "  bank_df['Transaction_Date'] = pd.to_datetime(bank_df['Transaction_Date'])\n"
          ]
        },
        {
          "output_type": "execute_result",
          "data": {
            "text/plain": [
              "Gender                             object\n",
              "Age                                 int64\n",
              "State                              object\n",
              "Bank_Branch                        object\n",
              "Account_Type                       object\n",
              "Transaction_ID                     object\n",
              "Transaction_Amount                float64\n",
              "Merchant_ID                        object\n",
              "Transaction_Type                   object\n",
              "Merchant_Category                  object\n",
              "Account_Balance                   float64\n",
              "Transaction_Device                 object\n",
              "Transaction_Location               object\n",
              "Device_Type                        object\n",
              "Is_Fraud                            int64\n",
              "Transaction_Currency               object\n",
              "Transaction_Description            object\n",
              "Transaction_DateTime       datetime64[ns]\n",
              "dtype: object"
            ],
            "text/html": [
              "<div>\n",
              "<style scoped>\n",
              "    .dataframe tbody tr th:only-of-type {\n",
              "        vertical-align: middle;\n",
              "    }\n",
              "\n",
              "    .dataframe tbody tr th {\n",
              "        vertical-align: top;\n",
              "    }\n",
              "\n",
              "    .dataframe thead th {\n",
              "        text-align: right;\n",
              "    }\n",
              "</style>\n",
              "<table border=\"1\" class=\"dataframe\">\n",
              "  <thead>\n",
              "    <tr style=\"text-align: right;\">\n",
              "      <th></th>\n",
              "      <th>0</th>\n",
              "    </tr>\n",
              "  </thead>\n",
              "  <tbody>\n",
              "    <tr>\n",
              "      <th>Gender</th>\n",
              "      <td>object</td>\n",
              "    </tr>\n",
              "    <tr>\n",
              "      <th>Age</th>\n",
              "      <td>int64</td>\n",
              "    </tr>\n",
              "    <tr>\n",
              "      <th>State</th>\n",
              "      <td>object</td>\n",
              "    </tr>\n",
              "    <tr>\n",
              "      <th>Bank_Branch</th>\n",
              "      <td>object</td>\n",
              "    </tr>\n",
              "    <tr>\n",
              "      <th>Account_Type</th>\n",
              "      <td>object</td>\n",
              "    </tr>\n",
              "    <tr>\n",
              "      <th>Transaction_ID</th>\n",
              "      <td>object</td>\n",
              "    </tr>\n",
              "    <tr>\n",
              "      <th>Transaction_Amount</th>\n",
              "      <td>float64</td>\n",
              "    </tr>\n",
              "    <tr>\n",
              "      <th>Merchant_ID</th>\n",
              "      <td>object</td>\n",
              "    </tr>\n",
              "    <tr>\n",
              "      <th>Transaction_Type</th>\n",
              "      <td>object</td>\n",
              "    </tr>\n",
              "    <tr>\n",
              "      <th>Merchant_Category</th>\n",
              "      <td>object</td>\n",
              "    </tr>\n",
              "    <tr>\n",
              "      <th>Account_Balance</th>\n",
              "      <td>float64</td>\n",
              "    </tr>\n",
              "    <tr>\n",
              "      <th>Transaction_Device</th>\n",
              "      <td>object</td>\n",
              "    </tr>\n",
              "    <tr>\n",
              "      <th>Transaction_Location</th>\n",
              "      <td>object</td>\n",
              "    </tr>\n",
              "    <tr>\n",
              "      <th>Device_Type</th>\n",
              "      <td>object</td>\n",
              "    </tr>\n",
              "    <tr>\n",
              "      <th>Is_Fraud</th>\n",
              "      <td>int64</td>\n",
              "    </tr>\n",
              "    <tr>\n",
              "      <th>Transaction_Currency</th>\n",
              "      <td>object</td>\n",
              "    </tr>\n",
              "    <tr>\n",
              "      <th>Transaction_Description</th>\n",
              "      <td>object</td>\n",
              "    </tr>\n",
              "    <tr>\n",
              "      <th>Transaction_DateTime</th>\n",
              "      <td>datetime64[ns]</td>\n",
              "    </tr>\n",
              "  </tbody>\n",
              "</table>\n",
              "</div><br><label><b>dtype:</b> object</label>"
            ]
          },
          "metadata": {},
          "execution_count": 67
        }
      ],
      "source": [
        "#convert the Transaction Date to Date\n",
        "bank_df['Transaction_Date'] = pd.to_datetime(bank_df['Transaction_Date'])\n",
        "bank_df = bank_df.drop(columns=['Transaction_Date','Transaction_Time'], axis=1)\n",
        "bank_df.dtypes"
      ]
    },
    {
      "cell_type": "markdown",
      "metadata": {
        "id": "q9SSzPhYYgfR"
      },
      "source": [
        "## **Visualizations**\n",
        "\n",
        "We'll start with some descriptive statistics. We'll visualize the distribution of fraudulent transactions that occur within the data. This shows the class distribution and helps you check if the data is imbalanced."
      ]
    },
    {
      "cell_type": "markdown",
      "metadata": {
        "id": "ATiprDDvcB0w"
      },
      "source": [
        "Next, lets check the distribution of Transaction Amounts. This helps visualize the distribution of transaction amounts and understand any skewness."
      ]
    },
    {
      "cell_type": "markdown",
      "metadata": {
        "id": "89xRX0IlR6-L"
      },
      "source": [
        "## **Fraud Distribution**"
      ]
    },
    {
      "cell_type": "code",
      "execution_count": null,
      "metadata": {
        "colab": {
          "base_uri": "https://localhost:8080/",
          "height": 651
        },
        "id": "KuqZkM1O_RL5",
        "outputId": "1ebbc04a-f9dc-488e-8f07-1f9c527aaf81"
      },
      "outputs": [
        {
          "output_type": "stream",
          "name": "stderr",
          "text": [
            "<ipython-input-68-72e81edfa698>:2: FutureWarning: \n",
            "\n",
            "Passing `palette` without assigning `hue` is deprecated and will be removed in v0.14.0. Assign the `x` variable to `hue` and set `legend=False` for the same effect.\n",
            "\n",
            "  sns.countplot(x='Is_Fraud', data=bank_df, palette='Set2')\n"
          ]
        },
        {
          "output_type": "display_data",
          "data": {
            "text/plain": [
              "<Figure size 800x600 with 1 Axes>"
            ],
            "image/png": "[encoded data removed]"
          },
          "metadata": {}
        }
      ],
      "source": [
        "plt.figure(figsize=(8,6))\n",
        "sns.countplot(x='Is_Fraud', data=bank_df, palette='Set2')\n",
        "plt.title('Distribution of Fraudulent vs Non-Fraudulent transactions')\n",
        "plt.xlabel('Transaction Type')\n",
        "plt.ylabel('Count (Thousands)')\n",
        "plt.xticks([0,1], ['Non-Fraud','Fraud'])\n",
        "plt.show()\n"
      ]
    },
    {
      "cell_type": "markdown",
      "metadata": {
        "id": "ElCQKI7ZfFQM"
      },
      "source": [
        "## **Distribution of Transaction Amounts**\n",
        "\n",
        "This scatterplot can help assess if there's a relationship between the transaction amount and whether the transaction is fraudulent or not."
      ]
    },
    {
      "cell_type": "code",
      "execution_count": null,
      "metadata": {
        "colab": {
          "base_uri": "https://localhost:8080/",
          "height": 564
        },
        "id": "Rmg6PTzAATEq",
        "outputId": "0a15a873-cc10-422e-db39-5de8c3d27096"
      },
      "outputs": [
        {
          "output_type": "display_data",
          "data": {
            "text/plain": [
              "<Figure size 800x600 with 1 Axes>"
            ],
            "image/png": "[encoded data removed]"
          },
          "metadata": {}
        }
      ],
      "source": [
        "plt.figure(figsize=(8,6))\n",
        "sns.histplot(bank_df['Transaction_Amount'], bins=50, kde=True, color='skyblue')\n",
        "plt.title('Distribution of Transaction Amounts')\n",
        "plt.xlabel('Amount')\n",
        "plt.ylabel('Frequency')\n",
        "plt.show()\n"
      ]
    },
    {
      "cell_type": "code",
      "execution_count": null,
      "metadata": {
        "colab": {
          "base_uri": "https://localhost:8080/",
          "height": 651
        },
        "id": "Z1eQTHQwAcsK",
        "outputId": "c82be746-1491-4e22-f2d5-8043e4e7a30c"
      },
      "outputs": [
        {
          "output_type": "stream",
          "name": "stderr",
          "text": [
            "<ipython-input-70-23353bec0a7c>:2: FutureWarning: \n",
            "\n",
            "Passing `palette` without assigning `hue` is deprecated and will be removed in v0.14.0. Assign the `x` variable to `hue` and set `legend=False` for the same effect.\n",
            "\n",
            "  sns.boxplot(x='Is_Fraud', y='Transaction_Amount', data=bank_df, palette='Set2')\n"
          ]
        },
        {
          "output_type": "display_data",
          "data": {
            "text/plain": [
              "<Figure size 800x600 with 1 Axes>"
            ],
            "image/png": "[encoded data removed]"
          },
          "metadata": {}
        }
      ],
      "source": [
        "plt.figure(figsize=(8, 6))\n",
        "sns.boxplot(x='Is_Fraud', y='Transaction_Amount', data=bank_df, palette='Set2')\n",
        "plt.title('Transaction Amount vs Fraudulent Transactions')\n",
        "plt.xlabel('Is Fraud')\n",
        "plt.ylabel('Transaction Amount')\n",
        "plt.xticks([0, 1], ['Non-Fraud', 'Fraud'])\n",
        "plt.show()"
      ]
    },
    {
      "cell_type": "markdown",
      "metadata": {
        "id": "idowr8KDRjth"
      },
      "source": [
        "## **Fraud by Transaction Type**"
      ]
    },
    {
      "cell_type": "code",
      "execution_count": null,
      "metadata": {
        "colab": {
          "base_uri": "https://localhost:8080/",
          "height": 487
        },
        "id": "Aq2hF0iLPuVS",
        "outputId": "eded3182-563c-47b9-cf81-c15a03f38e90"
      },
      "outputs": [
        {
          "output_type": "display_data",
          "data": {
            "text/plain": [
              "<Figure size 800x500 with 1 Axes>"
            ],
            "image/png": "[encoded data removed]"
          },
          "metadata": {}
        }
      ],
      "source": [
        "plt.figure(figsize=(8,5))\n",
        "sns.countplot(data=bank_df, x='Transaction_Type', hue='Is_Fraud', palette='coolwarm')\n",
        "plt.title(\"Fraud Count by Transaction Type\")\n",
        "plt.show()"
      ]
    },
    {
      "cell_type": "markdown",
      "metadata": {
        "id": "YmvR0qX_TuRc"
      },
      "source": [
        "## **Time-Based Analysis**"
      ]
    },
    {
      "cell_type": "code",
      "execution_count": null,
      "metadata": {
        "colab": {
          "base_uri": "https://localhost:8080/",
          "height": 487
        },
        "id": "gSItBx3iTt9s",
        "outputId": "66f27c91-4376-4ff1-a9ac-b7bcc49982ff"
      },
      "outputs": [
        {
          "output_type": "display_data",
          "data": {
            "text/plain": [
              "<Figure size 1000x500 with 1 Axes>"
            ],
            "image/png": "[encoded data removed]"
          },
          "metadata": {}
        }
      ],
      "source": [
        "if 'Transaction_DateTime' in bank_df.columns:\n",
        "    bank_df['Transaction_DateTime'] = pd.to_datetime(bank_df['Transaction_DateTime'])\n",
        "    bank_df.set_index('Transaction_DateTime', inplace=True)\n",
        "    bank_df['hour'] = bank_df.index.hour\n",
        "\n",
        "    plt.figure(figsize=(10,5))\n",
        "    sns.lineplot(x=bank_df['hour'], y=bank_df['Is_Fraud'])\n",
        "    plt.title(\"Fraud Transactions by Hour of the Day\")\n",
        "    plt.xlabel(\"Hour of the Day\")\n",
        "    plt.ylabel(\"Fraud Count\")\n",
        "    plt.show()\n"
      ]
    },
    {
      "cell_type": "markdown",
      "metadata": {
        "id": "zXUn45bhUbhH"
      },
      "source": [
        "## **Convert Datetime Features**"
      ]
    },
    {
      "cell_type": "code",
      "execution_count": null,
      "metadata": {
        "id": "LZ9UTJiXUa7N"
      },
      "outputs": [],
      "source": [
        "if 'Transaction_DateTime' in bank_df.columns:\n",
        "    bank_df['Transaction_DateTime'] = pd.to_datetime(bank_df['Transaction_DateTime'])\n",
        "    bank_df['Transaction_Hour'] = bank_df['Transaction_DateTime'].dt.hour\n",
        "    bank_df['Transaction_Day'] = bank_df['Transaction_DateTime'].dt.dayofweek  # 0=Monday, 6=Sunday\n",
        "    # df.drop(columns=['timestamp'], inplace=True)  # Drop original timestamp\n"
      ]
    },
    {
      "cell_type": "code",
      "execution_count": null,
      "metadata": {
        "colab": {
          "base_uri": "https://localhost:8080/"
        },
        "id": "mJvkiif3Y_wA",
        "outputId": "2e13d9f7-a710-4ffb-acc6-50535d0bd7d3"
      },
      "outputs": [
        {
          "output_type": "stream",
          "name": "stdout",
          "text": [
            "Categorical Columns: ['Gender', 'State', 'Bank_Branch', 'Account_Type', 'Transaction_ID', 'Merchant_ID', 'Transaction_Type', 'Merchant_Category', 'Transaction_Device', 'Transaction_Location', 'Device_Type', 'Transaction_Currency', 'Transaction_Description']\n"
          ]
        }
      ],
      "source": [
        "categorical_columns = bank_df.select_dtypes(include=['object']).columns.tolist()\n",
        "print(\"Categorical Columns:\", categorical_columns)"
      ]
    },
    {
      "cell_type": "code",
      "execution_count": null,
      "metadata": {
        "id": "grA485fvZNCH"
      },
      "outputs": [],
      "source": [
        "# Define feature matrix (X) and target variable (y)\n",
        "\n",
        "X = bank_df.drop(columns=['Is_Fraud'])\n",
        "y = bank_df['Is_Fraud']\n",
        "\n",
        "# Split into train (80%) and test (20%)\n",
        "X_train, X_test, y_train, y_test = train_test_split(X, y, test_size=0.2, random_state=33, stratify=y)"
      ]
    },
    {
      "cell_type": "markdown",
      "source": [
        "## **Train a Classification Model**"
      ],
      "metadata": {
        "id": "GIy5bhbglcmj"
      }
    },
    {
      "cell_type": "markdown",
      "source": [
        "## Baseline Model\n",
        "\n",
        "I'll start by creating a baseline LogisticRegression model. I'll start by Standardizing the categorical columns and Numberical columns.\n",
        "\n",
        "Once standaridized, I will create a pipeline that creates a baseline model."
      ],
      "metadata": {
        "id": "cOvU0v8yP1Gf"
      }
    },
    {
      "cell_type": "code",
      "source": [
        "print(y_train.value_counts(normalize=True))"
      ],
      "metadata": {
        "id": "aXes3KDTlbtC"
      },
      "execution_count": null,
      "outputs": []
    },
    {
      "cell_type": "markdown",
      "source": [
        "### **Model the pipeline**"
      ],
      "metadata": {
        "id": "LiSr8qHwlrRp"
      }
    },
    {
      "cell_type": "code",
      "execution_count": null,
      "metadata": {
        "colab": {
          "base_uri": "https://localhost:8080/"
        },
        "id": "T7UUaqxkZvfc",
        "outputId": "296e9d7c-25cd-4c52-c03d-080d39b8f7f2"
      },
      "outputs": [
        {
          "output_type": "stream",
          "name": "stderr",
          "text": [
            "/usr/local/lib/python3.11/dist-packages/sklearn/preprocessing/_encoders.py:246: UserWarning: Found unknown categories in columns [4, 5] during transform. These unknown categories will be encoded as all zeros\n",
            "  warnings.warn(\n"
          ]
        },
        {
          "output_type": "stream",
          "name": "stdout",
          "text": [
            "              precision    recall  f1-score   support\n",
            "\n",
            "           0       0.95      1.00      0.97     37982\n",
            "           1       1.00      0.00      0.00      2018\n",
            "\n",
            "    accuracy                           0.95     40000\n",
            "   macro avg       0.97      0.50      0.49     40000\n",
            "weighted avg       0.95      0.95      0.92     40000\n",
            "\n"
          ]
        }
      ],
      "source": [
        "# Identify numerical & categorical columns\n",
        "categorical_columns = X.select_dtypes(include=['object']).columns.tolist()\n",
        "numerical_columns = X.select_dtypes(exclude=['object']).columns.tolist()\n",
        "\n",
        "# Apply transformations\n",
        "preprocessor = ColumnTransformer(\n",
        "    transformers=[\n",
        "        ('cat', OneHotEncoder(drop='first', handle_unknown='ignore'), categorical_columns),  # Categorical encoding\n",
        "        ('num', StandardScaler(), numerical_columns)  # Scale numerical columns\n",
        "    ],\n",
        "    remainder='passthrough'  # Keep all columns not explicitly transformed\n",
        ")\n",
        "\n",
        "logreg_pipeline = Pipeline([\n",
        "    ('preprocesson', preprocessor),\n",
        "    ('classifier', LogisticRegression(solver='liblinear', random_state=33))\n",
        "])\n",
        "\n",
        "logreg_pipeline.fit(X_train, y_train)\n",
        "y_pred = logreg_pipeline.predict(X_test)\n",
        "# pipeline = ImbPipeline([\n",
        "#     ('preprocessor', preprocessor),\n",
        "#     ('smote',  SMOTE(sampling_strategy='auto', random_state=33)),\n",
        "#     ('classifier', RandomForestClassifier(n_estimators=100, class_weight='balanced', random_state=33))\n",
        "# ])\n",
        "\n",
        "# # Fit and transform training data\n",
        "# pipeline.fit(X_train, y_train)\n",
        "# y_pred = pipeline.predict(X_test)\n",
        "# print(classification_report(y_test, y_pred, zero_division=1))"
      ]
    },
    {
      "cell_type": "code",
      "source": [
        "xgb_pipeline = Pipeline([\n",
        "    ('preprocessor', preprocessor),\n",
        "    ('classifier', XBBClassifier(use_label_encoder=False, eval_metric='logloss', random_state=33))\n",
        "])"
      ],
      "metadata": {
        "id": "gh_htRR5togz"
      },
      "execution_count": null,
      "outputs": []
    },
    {
      "cell_type": "markdown",
      "metadata": {
        "id": "DtZHUrG2Tw3i"
      },
      "source": [
        "## **Time series Forecasting**\n",
        "\n",
        "Let's split the dataset by time rather than randomly."
      ]
    },
    {
      "cell_type": "code",
      "execution_count": null,
      "metadata": {
        "colab": {
          "base_uri": "https://localhost:8080/"
        },
        "id": "8WMQ8JlYFEH2",
        "outputId": "5bd87a98-5118-4d2b-c257-77f8ad8c5038"
      },
      "outputs": [
        {
          "name": "stdout",
          "output_type": "stream",
          "text": [
            "Is_Fraud\n",
            "0    0.949562\n",
            "1    0.050438\n",
            "Name: proportion, dtype: float64\n"
          ]
        }
      ],
      "source": [
        "bank_df = bank_df.sort_values(by='Transaction_DateTime')  # Ensure data is in time order\n"
      ]
    },
    {
      "cell_type": "code",
      "execution_count": null,
      "metadata": {
        "id": "OIC3wOLTtWFC"
      },
      "outputs": [],
      "source": [
        "train_size = int(0.8 * len(bank_df))\n",
        "train, test = bank_df.iloc[:train_size], bank_df.iloc[train_size:]\n",
        "\n",
        "X_train_time, y_train_time = train.drop(columns=['is_fraud']), train['is_fraud']\n",
        "X_test_time, y_test_time = test.drop(columns=['is_fraud']), test['is_fraud']\n"
      ]
    },
    {
      "cell_type": "code",
      "source": [
        "from statsmodels.tsa.arima.model import ARIMA\n",
        "\n",
        "# Esure 'Transaction_DATETIME column is set to index\n",
        "bank_df.set_index('Transaction_DateTime', inplace=True)\n",
        "\n",
        "#Aggregate fraud counts over time\n",
        "fraud_counts = bank_df.resample('D')['Is_Fraud'].sum()\n",
        "\n",
        "# Train ARIMA model\n",
        "model = ARIMA(fraud_counts[:train_size], order=(5,1,0))\n",
        "model_fit = model.fit()\n",
        "\n",
        "# forecast future fraud cases\n",
        "forecast = model_fit.forecast(steps=len(test))\n",
        "\n",
        "# plot results\n",
        "plt.figure(figsize=(10,5))\n",
        "plt.plot(fraud_counts, label='Actual Fraud Cases')\n",
        "plt.plot(test.index, forecast, label='ARIMA Forecast', color='red')\n",
        "plt.legend()\n",
        "plt.title('Fraud Prediction using Arima')\n",
        "plt.show()"
      ],
      "metadata": {
        "id": "3NwSiXSjqrdL"
      },
      "execution_count": null,
      "outputs": []
    }
  ],
  "metadata": {
    "colab": {
      "provenance": [],
      "authorship_tag": "ABX9TyNGneXQslhsQRcyqXAoncEM",
      "include_colab_link": true
    },
    "kernelspec": {
      "display_name": "Python 3",
      "name": "python3"
    },
    "language_info": {
      "name": "python"
    }
  },
  "nbformat": 4,
  "nbformat_minor": 0
}